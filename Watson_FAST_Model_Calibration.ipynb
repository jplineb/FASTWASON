{
  "nbformat": 4,
  "nbformat_minor": 0,
  "metadata": {
    "colab": {
      "name": "Watson FAST Model Calibration.ipynb",
      "version": "0.3.2",
      "provenance": [],
      "toc_visible": true,
      "include_colab_link": true
    },
    "kernelspec": {
      "name": "python3",
      "display_name": "Python 3"
    }
  },
  "cells": [
    {
      "cell_type": "markdown",
      "metadata": {
        "id": "view-in-github",
        "colab_type": "text"
      },
      "source": [
        "<a href=\"https://colab.research.google.com/github/jplineb/FASTWASON/blob/master/Watson_FAST_Model_Calibration.ipynb\" target=\"_parent\"><img src=\"https://colab.research.google.com/assets/colab-badge.svg\" alt=\"Open In Colab\"/></a>"
      ]
    },
    {
      "cell_type": "code",
      "metadata": {
        "id": "zx3U-8ARDpjB",
        "colab_type": "code",
        "colab": {}
      },
      "source": [
        "import pandas as pd\n",
        "import numpy as np\n",
        "import matplotlib.pyplot as plt\n",
        "from sklearn.linear_model import LinearRegression\n",
        "from sklearn.model_selection import train_test_split\n",
        "from sklearn.metrics import mean_squared_error, mean_absolute_error\n",
        "from sklearn.metrics import confusion_matrix\n",
        "from sklearn.utils.multiclass import unique_labels\n",
        "import plotly.plotly as py\n",
        "import plotly.graph_objs as go\n"
      ],
      "execution_count": 0,
      "outputs": []
    },
    {
      "cell_type": "code",
      "metadata": {
        "id": "TaDldprREWTC",
        "colab_type": "code",
        "colab": {}
      },
      "source": [
        "calib_frac = 0.33"
      ],
      "execution_count": 0,
      "outputs": []
    },
    {
      "cell_type": "markdown",
      "metadata": {
        "id": "kzE_1HXSEHRm",
        "colab_type": "text"
      },
      "source": [
        "## Load and prepare the data"
      ]
    },
    {
      "cell_type": "code",
      "metadata": {
        "id": "KBeALsvyEFgj",
        "colab_type": "code",
        "outputId": "2fb356ba-6eb6-4d04-8792-8333dca5316d",
        "colab": {
          "base_uri": "https://localhost:8080/",
          "height": 236
        }
      },
      "source": [
        "df = pd.read_csv(\"FASTDataFrameNice.csv\")\n",
        "df.head()"
      ],
      "execution_count": 314,
      "outputs": [
        {
          "output_type": "execute_result",
          "data": {
            "text/html": [
              "<div>\n",
              "<style scoped>\n",
              "    .dataframe tbody tr th:only-of-type {\n",
              "        vertical-align: middle;\n",
              "    }\n",
              "\n",
              "    .dataframe tbody tr th {\n",
              "        vertical-align: top;\n",
              "    }\n",
              "\n",
              "    .dataframe thead th {\n",
              "        text-align: right;\n",
              "    }\n",
              "</style>\n",
              "<table border=\"1\" class=\"dataframe\">\n",
              "  <thead>\n",
              "    <tr style=\"text-align: right;\">\n",
              "      <th></th>\n",
              "      <th>Unnamed: 0</th>\n",
              "      <th>img_name</th>\n",
              "      <th>actual_qual</th>\n",
              "      <th>Quality 1</th>\n",
              "      <th>Quality 2</th>\n",
              "      <th>Quality 3</th>\n",
              "      <th>Quality 4</th>\n",
              "      <th>Quality 5</th>\n",
              "      <th>predicted_qual</th>\n",
              "    </tr>\n",
              "  </thead>\n",
              "  <tbody>\n",
              "    <tr>\n",
              "      <th>0</th>\n",
              "      <td>0</td>\n",
              "      <td>video33327.mp4__frame176.png</td>\n",
              "      <td>1</td>\n",
              "      <td>0.907</td>\n",
              "      <td>0.001</td>\n",
              "      <td>0.000</td>\n",
              "      <td>0.000</td>\n",
              "      <td>0.000</td>\n",
              "      <td>1.001101</td>\n",
              "    </tr>\n",
              "    <tr>\n",
              "      <th>1</th>\n",
              "      <td>1</td>\n",
              "      <td>video33642.mp4__frame110.png</td>\n",
              "      <td>1</td>\n",
              "      <td>0.418</td>\n",
              "      <td>0.108</td>\n",
              "      <td>0.153</td>\n",
              "      <td>0.663</td>\n",
              "      <td>0.004</td>\n",
              "      <td>2.797177</td>\n",
              "    </tr>\n",
              "    <tr>\n",
              "      <th>2</th>\n",
              "      <td>2</td>\n",
              "      <td>video33642.mp4__frame66.png</td>\n",
              "      <td>1</td>\n",
              "      <td>0.891</td>\n",
              "      <td>0.017</td>\n",
              "      <td>0.031</td>\n",
              "      <td>0.035</td>\n",
              "      <td>0.000</td>\n",
              "      <td>1.188912</td>\n",
              "    </tr>\n",
              "    <tr>\n",
              "      <th>3</th>\n",
              "      <td>3</td>\n",
              "      <td>video33671.mp4__frame66.png</td>\n",
              "      <td>1</td>\n",
              "      <td>0.031</td>\n",
              "      <td>0.269</td>\n",
              "      <td>0.833</td>\n",
              "      <td>0.004</td>\n",
              "      <td>0.000</td>\n",
              "      <td>2.712401</td>\n",
              "    </tr>\n",
              "    <tr>\n",
              "      <th>4</th>\n",
              "      <td>4</td>\n",
              "      <td>video33671.mp4__frame88.png</td>\n",
              "      <td>1</td>\n",
              "      <td>0.010</td>\n",
              "      <td>0.898</td>\n",
              "      <td>0.035</td>\n",
              "      <td>0.001</td>\n",
              "      <td>0.000</td>\n",
              "      <td>2.028602</td>\n",
              "    </tr>\n",
              "  </tbody>\n",
              "</table>\n",
              "</div>"
            ],
            "text/plain": [
              "   Unnamed: 0                      img_name  ...  Quality 5  predicted_qual\n",
              "0           0  video33327.mp4__frame176.png  ...      0.000        1.001101\n",
              "1           1  video33642.mp4__frame110.png  ...      0.004        2.797177\n",
              "2           2   video33642.mp4__frame66.png  ...      0.000        1.188912\n",
              "3           3   video33671.mp4__frame66.png  ...      0.000        2.712401\n",
              "4           4   video33671.mp4__frame88.png  ...      0.000        2.028602\n",
              "\n",
              "[5 rows x 9 columns]"
            ]
          },
          "metadata": {
            "tags": []
          },
          "execution_count": 314
        }
      ]
    },
    {
      "cell_type": "code",
      "metadata": {
        "id": "-NNGDBwhElh2",
        "colab_type": "code",
        "outputId": "1cdc5a43-9462-4ab5-9936-0fc27cfae0dd",
        "colab": {
          "base_uri": "https://localhost:8080/",
          "height": 105
        }
      },
      "source": [
        "# pull off target and variable columns\n",
        "y = df.actual_qual.values\n",
        "X = df.iloc[:, 3:8].values\n",
        "X[:5]"
      ],
      "execution_count": 315,
      "outputs": [
        {
          "output_type": "execute_result",
          "data": {
            "text/plain": [
              "array([[0.907, 0.001, 0.   , 0.   , 0.   ],\n",
              "       [0.418, 0.108, 0.153, 0.663, 0.004],\n",
              "       [0.891, 0.017, 0.031, 0.035, 0.   ],\n",
              "       [0.031, 0.269, 0.833, 0.004, 0.   ],\n",
              "       [0.01 , 0.898, 0.035, 0.001, 0.   ]])"
            ]
          },
          "metadata": {
            "tags": []
          },
          "execution_count": 315
        }
      ]
    },
    {
      "cell_type": "code",
      "metadata": {
        "id": "If-Z1I--LlXZ",
        "colab_type": "code",
        "outputId": "c3cd12fe-f9d1-4a6f-8e83-616d2d96f3e1",
        "colab": {
          "base_uri": "https://localhost:8080/",
          "height": 1177
        }
      },
      "source": [
        "# get sample weights to balance quality levels\n",
        "qual_counts = df.groupby(\"actual_qual\")['actual_qual'].agg('count').values\n",
        "print(qual_counts)\n",
        "print(sum(qual_counts))\n",
        "weights =  (234/5)/qual_counts\n",
        "weights = weights**2\n",
        "print(weights)\n",
        "print(qual_counts/ sum(qual_counts) * weights)\n",
        "\n",
        "def get_weight(qual):\n",
        "  wt = weights[qual-1]\n",
        "  return wt\n",
        "\n",
        "get_weight(3)\n",
        "\n",
        "y_weights = df.actual_qual.apply(get_weight)\n",
        "print(y_weights)"
      ],
      "execution_count": 316,
      "outputs": [
        {
          "output_type": "stream",
          "text": [
            "[35 69 62 43 25]\n",
            "234\n",
            "[1.78795102 0.46003781 0.56978148 1.18455381 3.504384  ]\n",
            "[0.26742857 0.13565217 0.15096774 0.21767442 0.3744    ]\n",
            "0      1.787951\n",
            "1      1.787951\n",
            "2      1.787951\n",
            "3      1.787951\n",
            "4      1.787951\n",
            "5      1.787951\n",
            "6      1.787951\n",
            "7      1.787951\n",
            "8      1.787951\n",
            "9      1.787951\n",
            "10     1.787951\n",
            "11     1.787951\n",
            "12     1.787951\n",
            "13     1.787951\n",
            "14     1.787951\n",
            "15     1.787951\n",
            "16     1.787951\n",
            "17     1.787951\n",
            "18     1.787951\n",
            "19     1.787951\n",
            "20     1.787951\n",
            "21     1.787951\n",
            "22     1.787951\n",
            "23     1.787951\n",
            "24     1.787951\n",
            "25     1.787951\n",
            "26     1.787951\n",
            "27     1.787951\n",
            "28     1.787951\n",
            "29     1.787951\n",
            "         ...   \n",
            "204    1.184554\n",
            "205    1.184554\n",
            "206    1.184554\n",
            "207    1.184554\n",
            "208    1.184554\n",
            "209    3.504384\n",
            "210    3.504384\n",
            "211    3.504384\n",
            "212    3.504384\n",
            "213    3.504384\n",
            "214    3.504384\n",
            "215    3.504384\n",
            "216    3.504384\n",
            "217    3.504384\n",
            "218    3.504384\n",
            "219    3.504384\n",
            "220    3.504384\n",
            "221    3.504384\n",
            "222    3.504384\n",
            "223    3.504384\n",
            "224    3.504384\n",
            "225    3.504384\n",
            "226    3.504384\n",
            "227    3.504384\n",
            "228    3.504384\n",
            "229    3.504384\n",
            "230    3.504384\n",
            "231    3.504384\n",
            "232    3.504384\n",
            "233    3.504384\n",
            "Name: actual_qual, Length: 234, dtype: float64\n"
          ],
          "name": "stdout"
        }
      ]
    },
    {
      "cell_type": "code",
      "metadata": {
        "id": "JbW2H4I9XH1o",
        "colab_type": "code",
        "outputId": "7f21a2da-9162-434d-c7ac-ad68fb385109",
        "colab": {
          "base_uri": "https://localhost:8080/",
          "height": 236
        }
      },
      "source": [
        "df['Weights'] = y_weights\n",
        "df.head()"
      ],
      "execution_count": 317,
      "outputs": [
        {
          "output_type": "execute_result",
          "data": {
            "text/html": [
              "<div>\n",
              "<style scoped>\n",
              "    .dataframe tbody tr th:only-of-type {\n",
              "        vertical-align: middle;\n",
              "    }\n",
              "\n",
              "    .dataframe tbody tr th {\n",
              "        vertical-align: top;\n",
              "    }\n",
              "\n",
              "    .dataframe thead th {\n",
              "        text-align: right;\n",
              "    }\n",
              "</style>\n",
              "<table border=\"1\" class=\"dataframe\">\n",
              "  <thead>\n",
              "    <tr style=\"text-align: right;\">\n",
              "      <th></th>\n",
              "      <th>Unnamed: 0</th>\n",
              "      <th>img_name</th>\n",
              "      <th>actual_qual</th>\n",
              "      <th>Quality 1</th>\n",
              "      <th>Quality 2</th>\n",
              "      <th>Quality 3</th>\n",
              "      <th>Quality 4</th>\n",
              "      <th>Quality 5</th>\n",
              "      <th>predicted_qual</th>\n",
              "      <th>Weights</th>\n",
              "    </tr>\n",
              "  </thead>\n",
              "  <tbody>\n",
              "    <tr>\n",
              "      <th>0</th>\n",
              "      <td>0</td>\n",
              "      <td>video33327.mp4__frame176.png</td>\n",
              "      <td>1</td>\n",
              "      <td>0.907</td>\n",
              "      <td>0.001</td>\n",
              "      <td>0.000</td>\n",
              "      <td>0.000</td>\n",
              "      <td>0.000</td>\n",
              "      <td>1.001101</td>\n",
              "      <td>1.787951</td>\n",
              "    </tr>\n",
              "    <tr>\n",
              "      <th>1</th>\n",
              "      <td>1</td>\n",
              "      <td>video33642.mp4__frame110.png</td>\n",
              "      <td>1</td>\n",
              "      <td>0.418</td>\n",
              "      <td>0.108</td>\n",
              "      <td>0.153</td>\n",
              "      <td>0.663</td>\n",
              "      <td>0.004</td>\n",
              "      <td>2.797177</td>\n",
              "      <td>1.787951</td>\n",
              "    </tr>\n",
              "    <tr>\n",
              "      <th>2</th>\n",
              "      <td>2</td>\n",
              "      <td>video33642.mp4__frame66.png</td>\n",
              "      <td>1</td>\n",
              "      <td>0.891</td>\n",
              "      <td>0.017</td>\n",
              "      <td>0.031</td>\n",
              "      <td>0.035</td>\n",
              "      <td>0.000</td>\n",
              "      <td>1.188912</td>\n",
              "      <td>1.787951</td>\n",
              "    </tr>\n",
              "    <tr>\n",
              "      <th>3</th>\n",
              "      <td>3</td>\n",
              "      <td>video33671.mp4__frame66.png</td>\n",
              "      <td>1</td>\n",
              "      <td>0.031</td>\n",
              "      <td>0.269</td>\n",
              "      <td>0.833</td>\n",
              "      <td>0.004</td>\n",
              "      <td>0.000</td>\n",
              "      <td>2.712401</td>\n",
              "      <td>1.787951</td>\n",
              "    </tr>\n",
              "    <tr>\n",
              "      <th>4</th>\n",
              "      <td>4</td>\n",
              "      <td>video33671.mp4__frame88.png</td>\n",
              "      <td>1</td>\n",
              "      <td>0.010</td>\n",
              "      <td>0.898</td>\n",
              "      <td>0.035</td>\n",
              "      <td>0.001</td>\n",
              "      <td>0.000</td>\n",
              "      <td>2.028602</td>\n",
              "      <td>1.787951</td>\n",
              "    </tr>\n",
              "  </tbody>\n",
              "</table>\n",
              "</div>"
            ],
            "text/plain": [
              "   Unnamed: 0                      img_name  ...  predicted_qual   Weights\n",
              "0           0  video33327.mp4__frame176.png  ...        1.001101  1.787951\n",
              "1           1  video33642.mp4__frame110.png  ...        2.797177  1.787951\n",
              "2           2   video33642.mp4__frame66.png  ...        1.188912  1.787951\n",
              "3           3   video33671.mp4__frame66.png  ...        2.712401  1.787951\n",
              "4           4   video33671.mp4__frame88.png  ...        2.028602  1.787951\n",
              "\n",
              "[5 rows x 10 columns]"
            ]
          },
          "metadata": {
            "tags": []
          },
          "execution_count": 317
        }
      ]
    },
    {
      "cell_type": "code",
      "metadata": {
        "id": "aZxBRC8TFLmu",
        "colab_type": "code",
        "outputId": "4befcd9b-c8bd-43c3-e996-d9fb2bae6c7f",
        "colab": {
          "base_uri": "https://localhost:8080/",
          "height": 254
        }
      },
      "source": [
        "# train/test split\n",
        "# X_train, X_test, y_train, y_test, y_weights_train, _ = train_test_split(X, y, y_weights, test_size=1-calib_frac, stratify=y)\n",
        "df_train, df_test = train_test_split(df, test_size=1-calib_frac, stratify=df.actual_qual)\n",
        "print(df_train.shape)\n",
        "df_test.head()"
      ],
      "execution_count": 318,
      "outputs": [
        {
          "output_type": "stream",
          "text": [
            "(77, 10)\n"
          ],
          "name": "stdout"
        },
        {
          "output_type": "execute_result",
          "data": {
            "text/html": [
              "<div>\n",
              "<style scoped>\n",
              "    .dataframe tbody tr th:only-of-type {\n",
              "        vertical-align: middle;\n",
              "    }\n",
              "\n",
              "    .dataframe tbody tr th {\n",
              "        vertical-align: top;\n",
              "    }\n",
              "\n",
              "    .dataframe thead th {\n",
              "        text-align: right;\n",
              "    }\n",
              "</style>\n",
              "<table border=\"1\" class=\"dataframe\">\n",
              "  <thead>\n",
              "    <tr style=\"text-align: right;\">\n",
              "      <th></th>\n",
              "      <th>Unnamed: 0</th>\n",
              "      <th>img_name</th>\n",
              "      <th>actual_qual</th>\n",
              "      <th>Quality 1</th>\n",
              "      <th>Quality 2</th>\n",
              "      <th>Quality 3</th>\n",
              "      <th>Quality 4</th>\n",
              "      <th>Quality 5</th>\n",
              "      <th>predicted_qual</th>\n",
              "      <th>Weights</th>\n",
              "    </tr>\n",
              "  </thead>\n",
              "  <tbody>\n",
              "    <tr>\n",
              "      <th>230</th>\n",
              "      <td>230</td>\n",
              "      <td>video35132[1].mp4__frame66.png</td>\n",
              "      <td>5</td>\n",
              "      <td>0.000</td>\n",
              "      <td>0.001</td>\n",
              "      <td>0.033</td>\n",
              "      <td>0.897</td>\n",
              "      <td>0.019</td>\n",
              "      <td>3.983158</td>\n",
              "      <td>3.504384</td>\n",
              "    </tr>\n",
              "    <tr>\n",
              "      <th>117</th>\n",
              "      <td>117</td>\n",
              "      <td>video33540.mp4__frame22.png</td>\n",
              "      <td>3</td>\n",
              "      <td>0.008</td>\n",
              "      <td>0.086</td>\n",
              "      <td>0.869</td>\n",
              "      <td>0.083</td>\n",
              "      <td>0.003</td>\n",
              "      <td>2.987607</td>\n",
              "      <td>0.569781</td>\n",
              "    </tr>\n",
              "    <tr>\n",
              "      <th>233</th>\n",
              "      <td>233</td>\n",
              "      <td>video35898.mp4__frame44.png</td>\n",
              "      <td>5</td>\n",
              "      <td>0.000</td>\n",
              "      <td>0.001</td>\n",
              "      <td>0.111</td>\n",
              "      <td>0.881</td>\n",
              "      <td>0.019</td>\n",
              "      <td>3.907115</td>\n",
              "      <td>3.504384</td>\n",
              "    </tr>\n",
              "    <tr>\n",
              "      <th>143</th>\n",
              "      <td>143</td>\n",
              "      <td>video33941.mp4__frame44.png</td>\n",
              "      <td>3</td>\n",
              "      <td>0.002</td>\n",
              "      <td>0.272</td>\n",
              "      <td>0.409</td>\n",
              "      <td>0.296</td>\n",
              "      <td>0.454</td>\n",
              "      <td>3.647592</td>\n",
              "      <td>0.569781</td>\n",
              "    </tr>\n",
              "    <tr>\n",
              "      <th>209</th>\n",
              "      <td>209</td>\n",
              "      <td>video33615.mp4__frame110.png</td>\n",
              "      <td>5</td>\n",
              "      <td>0.000</td>\n",
              "      <td>0.000</td>\n",
              "      <td>0.696</td>\n",
              "      <td>0.561</td>\n",
              "      <td>0.015</td>\n",
              "      <td>3.464623</td>\n",
              "      <td>3.504384</td>\n",
              "    </tr>\n",
              "  </tbody>\n",
              "</table>\n",
              "</div>"
            ],
            "text/plain": [
              "     Unnamed: 0                        img_name  ...  predicted_qual   Weights\n",
              "230         230  video35132[1].mp4__frame66.png  ...        3.983158  3.504384\n",
              "117         117     video33540.mp4__frame22.png  ...        2.987607  0.569781\n",
              "233         233     video35898.mp4__frame44.png  ...        3.907115  3.504384\n",
              "143         143     video33941.mp4__frame44.png  ...        3.647592  0.569781\n",
              "209         209    video33615.mp4__frame110.png  ...        3.464623  3.504384\n",
              "\n",
              "[5 rows x 10 columns]"
            ]
          },
          "metadata": {
            "tags": []
          },
          "execution_count": 318
        }
      ]
    },
    {
      "cell_type": "code",
      "metadata": {
        "id": "aFgA7riQSeZt",
        "colab_type": "code",
        "outputId": "8a8ef389-a6ab-4bfa-80ab-39c743dd0076",
        "colab": {
          "base_uri": "https://localhost:8080/",
          "height": 52
        }
      },
      "source": [
        "# Split the train and test data set\n",
        "\n",
        "### Test ###\n",
        "y_dftest = df_test.actual_qual.values # is array\n",
        "x_dftest = df_test.iloc[:, 3:8].values # is array\n",
        "\n",
        "\n",
        "### Train ###\n",
        "y_dftrain = df_train.actual_qual.values # is array\n",
        "x_dftrain = df_train.iloc[:, 3:8].values # is array\n",
        "y_dftrain_weights = df_train.Weights.values # is array\n",
        "x_dftrain[1:3]\n"
      ],
      "execution_count": 319,
      "outputs": [
        {
          "output_type": "execute_result",
          "data": {
            "text/plain": [
              "array([[0.906, 0.003, 0.   , 0.   , 0.   ],\n",
              "       [0.601, 0.252, 0.473, 0.041, 0.002]])"
            ]
          },
          "metadata": {
            "tags": []
          },
          "execution_count": 319
        }
      ]
    },
    {
      "cell_type": "code",
      "metadata": {
        "id": "lYwLTsXmWMzZ",
        "colab_type": "code",
        "colab": {}
      },
      "source": [
        ""
      ],
      "execution_count": 0,
      "outputs": []
    },
    {
      "cell_type": "code",
      "metadata": {
        "id": "3BtIhyf9Fjre",
        "colab_type": "code",
        "outputId": "30aaf33c-6e56-4b17-d3c9-ee1b774d68bd",
        "colab": {
          "base_uri": "https://localhost:8080/",
          "height": 105
        }
      },
      "source": [
        "print(x_dftrain.shape)\n",
        "print(x_dftest.shape)\n",
        "print(y_dftrain.shape)\n",
        "print(y_dftest.shape)\n",
        "print(y_dftrain_weights.shape)"
      ],
      "execution_count": 320,
      "outputs": [
        {
          "output_type": "stream",
          "text": [
            "(77, 5)\n",
            "(157, 5)\n",
            "(77,)\n",
            "(157,)\n",
            "(77,)\n"
          ],
          "name": "stdout"
        }
      ]
    },
    {
      "cell_type": "markdown",
      "metadata": {
        "id": "cb3Ni77lELI9",
        "colab_type": "text"
      },
      "source": [
        "## Train the calibration model"
      ]
    },
    {
      "cell_type": "code",
      "metadata": {
        "id": "plQ8IlD7ENE-",
        "colab_type": "code",
        "outputId": "997dc313-f3ef-4c25-8d82-04266981ca50",
        "colab": {
          "base_uri": "https://localhost:8080/",
          "height": 34
        }
      },
      "source": [
        "estim = LinearRegression(fit_intercept= False)\n",
        "estim.fit(x_dftrain, y_dftrain, sample_weight=y_dftrain_weights)"
      ],
      "execution_count": 321,
      "outputs": [
        {
          "output_type": "execute_result",
          "data": {
            "text/plain": [
              "LinearRegression(copy_X=True, fit_intercept=False, n_jobs=None, normalize=False)"
            ]
          },
          "metadata": {
            "tags": []
          },
          "execution_count": 321
        }
      ]
    },
    {
      "cell_type": "code",
      "metadata": {
        "id": "wP7q8ZFUGgtA",
        "colab_type": "code",
        "outputId": "b98ffad2-0394-4ef7-cfea-f66527db6752",
        "colab": {
          "base_uri": "https://localhost:8080/",
          "height": 34
        }
      },
      "source": [
        "# evaluate the mode:\n",
        "\n",
        "# look at fit coefs\n",
        "print(estim.coef_)\n",
        "# -> array([1.76293662, 2.13542102, 2.92516357, 3.10297302, 3.49912872])"
      ],
      "execution_count": 322,
      "outputs": [
        {
          "output_type": "stream",
          "text": [
            "[1.11958784 1.29530026 3.56708133 4.05151607 3.40425124]\n"
          ],
          "name": "stdout"
        }
      ]
    },
    {
      "cell_type": "markdown",
      "metadata": {
        "id": "Q_fyZZKNETX2",
        "colab_type": "text"
      },
      "source": [
        "## Get final scores"
      ]
    },
    {
      "cell_type": "code",
      "metadata": {
        "id": "QB1nd8Z4EViO",
        "colab_type": "code",
        "colab": {}
      },
      "source": [
        "# evaluate model on training set\n",
        "y_test_pred = estim.predict(x_dftest)"
      ],
      "execution_count": 0,
      "outputs": []
    },
    {
      "cell_type": "code",
      "metadata": {
        "id": "NwQr-OXhG6fX",
        "colab_type": "code",
        "outputId": "2467078e-1030-4f60-9d45-40a59bc5a752",
        "colab": {
          "base_uri": "https://localhost:8080/",
          "height": 34
        }
      },
      "source": [
        "np.sqrt(mean_squared_error(y_dftest, y_test_pred))"
      ],
      "execution_count": 324,
      "outputs": [
        {
          "output_type": "execute_result",
          "data": {
            "text/plain": [
              "1.0965743668786372"
            ]
          },
          "metadata": {
            "tags": []
          },
          "execution_count": 324
        }
      ]
    },
    {
      "cell_type": "code",
      "metadata": {
        "id": "5pNn6n00HWDP",
        "colab_type": "code",
        "outputId": "5aae34f8-4654-47de-9402-03ae99e9dc80",
        "colab": {
          "base_uri": "https://localhost:8080/",
          "height": 34
        }
      },
      "source": [
        "mean_absolute_error(y_dftest, y_test_pred)"
      ],
      "execution_count": 325,
      "outputs": [
        {
          "output_type": "execute_result",
          "data": {
            "text/plain": [
              "0.860655873403782"
            ]
          },
          "metadata": {
            "tags": []
          },
          "execution_count": 325
        }
      ]
    },
    {
      "cell_type": "code",
      "metadata": {
        "id": "0tL5YE9lHkDQ",
        "colab_type": "code",
        "outputId": "c8dd9edb-177e-418c-b869-080d01f31d39",
        "colab": {
          "base_uri": "https://localhost:8080/",
          "height": 199
        }
      },
      "source": [
        "df_eval = pd.DataFrame(x_dftest)\n",
        "df_eval['y_test'] = y_dftest\n",
        "df_eval['y_test_pred'] = y_test_pred\n",
        "df_eval.head()"
      ],
      "execution_count": 326,
      "outputs": [
        {
          "output_type": "execute_result",
          "data": {
            "text/html": [
              "<div>\n",
              "<style scoped>\n",
              "    .dataframe tbody tr th:only-of-type {\n",
              "        vertical-align: middle;\n",
              "    }\n",
              "\n",
              "    .dataframe tbody tr th {\n",
              "        vertical-align: top;\n",
              "    }\n",
              "\n",
              "    .dataframe thead th {\n",
              "        text-align: right;\n",
              "    }\n",
              "</style>\n",
              "<table border=\"1\" class=\"dataframe\">\n",
              "  <thead>\n",
              "    <tr style=\"text-align: right;\">\n",
              "      <th></th>\n",
              "      <th>0</th>\n",
              "      <th>1</th>\n",
              "      <th>2</th>\n",
              "      <th>3</th>\n",
              "      <th>4</th>\n",
              "      <th>y_test</th>\n",
              "      <th>y_test_pred</th>\n",
              "    </tr>\n",
              "  </thead>\n",
              "  <tbody>\n",
              "    <tr>\n",
              "      <th>0</th>\n",
              "      <td>0.000</td>\n",
              "      <td>0.001</td>\n",
              "      <td>0.033</td>\n",
              "      <td>0.897</td>\n",
              "      <td>0.019</td>\n",
              "      <td>5</td>\n",
              "      <td>3.817900</td>\n",
              "    </tr>\n",
              "    <tr>\n",
              "      <th>1</th>\n",
              "      <td>0.008</td>\n",
              "      <td>0.086</td>\n",
              "      <td>0.869</td>\n",
              "      <td>0.083</td>\n",
              "      <td>0.003</td>\n",
              "      <td>3</td>\n",
              "      <td>3.566635</td>\n",
              "    </tr>\n",
              "    <tr>\n",
              "      <th>2</th>\n",
              "      <td>0.000</td>\n",
              "      <td>0.001</td>\n",
              "      <td>0.111</td>\n",
              "      <td>0.881</td>\n",
              "      <td>0.019</td>\n",
              "      <td>5</td>\n",
              "      <td>4.031308</td>\n",
              "    </tr>\n",
              "    <tr>\n",
              "      <th>3</th>\n",
              "      <td>0.002</td>\n",
              "      <td>0.272</td>\n",
              "      <td>0.409</td>\n",
              "      <td>0.296</td>\n",
              "      <td>0.454</td>\n",
              "      <td>3</td>\n",
              "      <td>4.558276</td>\n",
              "    </tr>\n",
              "    <tr>\n",
              "      <th>4</th>\n",
              "      <td>0.000</td>\n",
              "      <td>0.000</td>\n",
              "      <td>0.696</td>\n",
              "      <td>0.561</td>\n",
              "      <td>0.015</td>\n",
              "      <td>5</td>\n",
              "      <td>4.806653</td>\n",
              "    </tr>\n",
              "  </tbody>\n",
              "</table>\n",
              "</div>"
            ],
            "text/plain": [
              "       0      1      2      3      4  y_test  y_test_pred\n",
              "0  0.000  0.001  0.033  0.897  0.019       5     3.817900\n",
              "1  0.008  0.086  0.869  0.083  0.003       3     3.566635\n",
              "2  0.000  0.001  0.111  0.881  0.019       5     4.031308\n",
              "3  0.002  0.272  0.409  0.296  0.454       3     4.558276\n",
              "4  0.000  0.000  0.696  0.561  0.015       5     4.806653"
            ]
          },
          "metadata": {
            "tags": []
          },
          "execution_count": 326
        }
      ]
    },
    {
      "cell_type": "code",
      "metadata": {
        "id": "t9v43Fe3P7OG",
        "colab_type": "code",
        "outputId": "6453d111-d2d0-4241-bd7a-4d8d35dc348d",
        "colab": {
          "base_uri": "https://localhost:8080/",
          "height": 236
        }
      },
      "source": [
        "df_fulltest = df_test.reset_index()\n",
        "df_fulltest['calibration_predict'] = y_test_pred\n",
        "df_fulltest.head()"
      ],
      "execution_count": 327,
      "outputs": [
        {
          "output_type": "execute_result",
          "data": {
            "text/html": [
              "<div>\n",
              "<style scoped>\n",
              "    .dataframe tbody tr th:only-of-type {\n",
              "        vertical-align: middle;\n",
              "    }\n",
              "\n",
              "    .dataframe tbody tr th {\n",
              "        vertical-align: top;\n",
              "    }\n",
              "\n",
              "    .dataframe thead th {\n",
              "        text-align: right;\n",
              "    }\n",
              "</style>\n",
              "<table border=\"1\" class=\"dataframe\">\n",
              "  <thead>\n",
              "    <tr style=\"text-align: right;\">\n",
              "      <th></th>\n",
              "      <th>index</th>\n",
              "      <th>Unnamed: 0</th>\n",
              "      <th>img_name</th>\n",
              "      <th>actual_qual</th>\n",
              "      <th>Quality 1</th>\n",
              "      <th>Quality 2</th>\n",
              "      <th>Quality 3</th>\n",
              "      <th>Quality 4</th>\n",
              "      <th>Quality 5</th>\n",
              "      <th>predicted_qual</th>\n",
              "      <th>Weights</th>\n",
              "      <th>calibration_predict</th>\n",
              "    </tr>\n",
              "  </thead>\n",
              "  <tbody>\n",
              "    <tr>\n",
              "      <th>0</th>\n",
              "      <td>230</td>\n",
              "      <td>230</td>\n",
              "      <td>video35132[1].mp4__frame66.png</td>\n",
              "      <td>5</td>\n",
              "      <td>0.000</td>\n",
              "      <td>0.001</td>\n",
              "      <td>0.033</td>\n",
              "      <td>0.897</td>\n",
              "      <td>0.019</td>\n",
              "      <td>3.983158</td>\n",
              "      <td>3.504384</td>\n",
              "      <td>3.817900</td>\n",
              "    </tr>\n",
              "    <tr>\n",
              "      <th>1</th>\n",
              "      <td>117</td>\n",
              "      <td>117</td>\n",
              "      <td>video33540.mp4__frame22.png</td>\n",
              "      <td>3</td>\n",
              "      <td>0.008</td>\n",
              "      <td>0.086</td>\n",
              "      <td>0.869</td>\n",
              "      <td>0.083</td>\n",
              "      <td>0.003</td>\n",
              "      <td>2.987607</td>\n",
              "      <td>0.569781</td>\n",
              "      <td>3.566635</td>\n",
              "    </tr>\n",
              "    <tr>\n",
              "      <th>2</th>\n",
              "      <td>233</td>\n",
              "      <td>233</td>\n",
              "      <td>video35898.mp4__frame44.png</td>\n",
              "      <td>5</td>\n",
              "      <td>0.000</td>\n",
              "      <td>0.001</td>\n",
              "      <td>0.111</td>\n",
              "      <td>0.881</td>\n",
              "      <td>0.019</td>\n",
              "      <td>3.907115</td>\n",
              "      <td>3.504384</td>\n",
              "      <td>4.031308</td>\n",
              "    </tr>\n",
              "    <tr>\n",
              "      <th>3</th>\n",
              "      <td>143</td>\n",
              "      <td>143</td>\n",
              "      <td>video33941.mp4__frame44.png</td>\n",
              "      <td>3</td>\n",
              "      <td>0.002</td>\n",
              "      <td>0.272</td>\n",
              "      <td>0.409</td>\n",
              "      <td>0.296</td>\n",
              "      <td>0.454</td>\n",
              "      <td>3.647592</td>\n",
              "      <td>0.569781</td>\n",
              "      <td>4.558276</td>\n",
              "    </tr>\n",
              "    <tr>\n",
              "      <th>4</th>\n",
              "      <td>209</td>\n",
              "      <td>209</td>\n",
              "      <td>video33615.mp4__frame110.png</td>\n",
              "      <td>5</td>\n",
              "      <td>0.000</td>\n",
              "      <td>0.000</td>\n",
              "      <td>0.696</td>\n",
              "      <td>0.561</td>\n",
              "      <td>0.015</td>\n",
              "      <td>3.464623</td>\n",
              "      <td>3.504384</td>\n",
              "      <td>4.806653</td>\n",
              "    </tr>\n",
              "  </tbody>\n",
              "</table>\n",
              "</div>"
            ],
            "text/plain": [
              "   index  Unnamed: 0  ...   Weights  calibration_predict\n",
              "0    230         230  ...  3.504384             3.817900\n",
              "1    117         117  ...  0.569781             3.566635\n",
              "2    233         233  ...  3.504384             4.031308\n",
              "3    143         143  ...  0.569781             4.558276\n",
              "4    209         209  ...  3.504384             4.806653\n",
              "\n",
              "[5 rows x 12 columns]"
            ]
          },
          "metadata": {
            "tags": []
          },
          "execution_count": 327
        }
      ]
    },
    {
      "cell_type": "code",
      "metadata": {
        "id": "G10-zxQAHz0A",
        "colab_type": "code",
        "colab": {
          "base_uri": "https://localhost:8080/",
          "height": 122
        },
        "outputId": "583a4615-d0a8-48e5-c1cd-0901fd7991eb"
      },
      "source": [
        "# df_eval.groupby(y_test).apply(lambda x: np.sqrt(mean_squared_error(x.y_test, x.y_test_pred)))\n",
        "meanerrorforclass = df_eval.groupby(y_dftest).apply(lambda x: mean_absolute_error(x.y_test, x.y_test_pred))\n",
        "\n",
        "print(meanerrorforclass)"
      ],
      "execution_count": 328,
      "outputs": [
        {
          "output_type": "stream",
          "text": [
            "1    0.527741\n",
            "2    0.938324\n",
            "3    0.868772\n",
            "4    0.805106\n",
            "5    1.175618\n",
            "dtype: float64\n"
          ],
          "name": "stdout"
        }
      ]
    },
    {
      "cell_type": "code",
      "metadata": {
        "id": "DLd2CL9-r7Pj",
        "colab_type": "code",
        "colab": {}
      },
      "source": [
        ""
      ],
      "execution_count": 0,
      "outputs": []
    },
    {
      "cell_type": "markdown",
      "metadata": {
        "id": "rOBk8ZDZjKS1",
        "colab_type": "text"
      },
      "source": [
        "## Merge on img_name"
      ]
    },
    {
      "cell_type": "code",
      "metadata": {
        "id": "Kx2cfhE0jOFl",
        "colab_type": "code",
        "outputId": "eb094066-176c-4839-81fe-aba88a8410a7",
        "colab": {
          "base_uri": "https://localhost:8080/",
          "height": 406
        }
      },
      "source": [
        "df_quadrants = pd.read_csv(\"quadrant_confidence.csv\") # loads in qudrants with img names csv\n",
        "df_quadrants.head()\n"
      ],
      "execution_count": 329,
      "outputs": [
        {
          "output_type": "execute_result",
          "data": {
            "text/html": [
              "<div>\n",
              "<style scoped>\n",
              "    .dataframe tbody tr th:only-of-type {\n",
              "        vertical-align: middle;\n",
              "    }\n",
              "\n",
              "    .dataframe tbody tr th {\n",
              "        vertical-align: top;\n",
              "    }\n",
              "\n",
              "    .dataframe thead th {\n",
              "        text-align: right;\n",
              "    }\n",
              "</style>\n",
              "<table border=\"1\" class=\"dataframe\">\n",
              "  <thead>\n",
              "    <tr style=\"text-align: right;\">\n",
              "      <th></th>\n",
              "      <th>Unnamed: 0</th>\n",
              "      <th>Unnamed: 0.1</th>\n",
              "      <th>actual_class</th>\n",
              "      <th>predicted_class</th>\n",
              "      <th>img_name</th>\n",
              "      <th>Quadrant</th>\n",
              "    </tr>\n",
              "  </thead>\n",
              "  <tbody>\n",
              "    <tr>\n",
              "      <th>0</th>\n",
              "      <td>0</td>\n",
              "      <td>0</td>\n",
              "      <td>Quality 1</td>\n",
              "      <td>[{\"class\": \"Quality 1\", \"score\": 0.907}, {\"cla...</td>\n",
              "      <td>video33327.mp4__frame176.png</td>\n",
              "      <td>unknown</td>\n",
              "    </tr>\n",
              "    <tr>\n",
              "      <th>1</th>\n",
              "      <td>1</td>\n",
              "      <td>0</td>\n",
              "      <td>Quality 1</td>\n",
              "      <td>[{\"class\": \"Quality 1\", \"score\": 0.907}, {\"cla...</td>\n",
              "      <td>video33327.mp4__frame176.png</td>\n",
              "      <td>unknown</td>\n",
              "    </tr>\n",
              "    <tr>\n",
              "      <th>2</th>\n",
              "      <td>2</td>\n",
              "      <td>1</td>\n",
              "      <td>Quality 1</td>\n",
              "      <td>[{\"class\": \"Quality 1\", \"score\": 0.418}, {\"cla...</td>\n",
              "      <td>video33642.mp4__frame110.png</td>\n",
              "      <td>unknown</td>\n",
              "    </tr>\n",
              "    <tr>\n",
              "      <th>3</th>\n",
              "      <td>3</td>\n",
              "      <td>1</td>\n",
              "      <td>Quality 1</td>\n",
              "      <td>[{\"class\": \"Quality 1\", \"score\": 0.418}, {\"cla...</td>\n",
              "      <td>video33642.mp4__frame110.png</td>\n",
              "      <td>unknown</td>\n",
              "    </tr>\n",
              "    <tr>\n",
              "      <th>4</th>\n",
              "      <td>4</td>\n",
              "      <td>2</td>\n",
              "      <td>Quality 1</td>\n",
              "      <td>[{\"class\": \"Quality 1\", \"score\": 0.891}, {\"cla...</td>\n",
              "      <td>video33642.mp4__frame66.png</td>\n",
              "      <td>unknown</td>\n",
              "    </tr>\n",
              "  </tbody>\n",
              "</table>\n",
              "</div>"
            ],
            "text/plain": [
              "   Unnamed: 0  Unnamed: 0.1  ...                      img_name Quadrant\n",
              "0           0             0  ...  video33327.mp4__frame176.png  unknown\n",
              "1           1             0  ...  video33327.mp4__frame176.png  unknown\n",
              "2           2             1  ...  video33642.mp4__frame110.png  unknown\n",
              "3           3             1  ...  video33642.mp4__frame110.png  unknown\n",
              "4           4             2  ...   video33642.mp4__frame66.png  unknown\n",
              "\n",
              "[5 rows x 6 columns]"
            ]
          },
          "metadata": {
            "tags": []
          },
          "execution_count": 329
        }
      ]
    },
    {
      "cell_type": "code",
      "metadata": {
        "id": "ngqrOcwIjr6R",
        "colab_type": "code",
        "outputId": "7ed9ffe5-542b-461a-93bd-9e6cb4800d62",
        "colab": {
          "base_uri": "https://localhost:8080/",
          "height": 199
        }
      },
      "source": [
        "dfquadcolumns = [\"img_name\", \"Quadrant\"]\n",
        "df_quadrants = df_quadrants.reindex(columns = dfquadcolumns)\n",
        "df_quadrants.head()"
      ],
      "execution_count": 330,
      "outputs": [
        {
          "output_type": "execute_result",
          "data": {
            "text/html": [
              "<div>\n",
              "<style scoped>\n",
              "    .dataframe tbody tr th:only-of-type {\n",
              "        vertical-align: middle;\n",
              "    }\n",
              "\n",
              "    .dataframe tbody tr th {\n",
              "        vertical-align: top;\n",
              "    }\n",
              "\n",
              "    .dataframe thead th {\n",
              "        text-align: right;\n",
              "    }\n",
              "</style>\n",
              "<table border=\"1\" class=\"dataframe\">\n",
              "  <thead>\n",
              "    <tr style=\"text-align: right;\">\n",
              "      <th></th>\n",
              "      <th>img_name</th>\n",
              "      <th>Quadrant</th>\n",
              "    </tr>\n",
              "  </thead>\n",
              "  <tbody>\n",
              "    <tr>\n",
              "      <th>0</th>\n",
              "      <td>video33327.mp4__frame176.png</td>\n",
              "      <td>unknown</td>\n",
              "    </tr>\n",
              "    <tr>\n",
              "      <th>1</th>\n",
              "      <td>video33327.mp4__frame176.png</td>\n",
              "      <td>unknown</td>\n",
              "    </tr>\n",
              "    <tr>\n",
              "      <th>2</th>\n",
              "      <td>video33642.mp4__frame110.png</td>\n",
              "      <td>unknown</td>\n",
              "    </tr>\n",
              "    <tr>\n",
              "      <th>3</th>\n",
              "      <td>video33642.mp4__frame110.png</td>\n",
              "      <td>unknown</td>\n",
              "    </tr>\n",
              "    <tr>\n",
              "      <th>4</th>\n",
              "      <td>video33642.mp4__frame66.png</td>\n",
              "      <td>unknown</td>\n",
              "    </tr>\n",
              "  </tbody>\n",
              "</table>\n",
              "</div>"
            ],
            "text/plain": [
              "                       img_name Quadrant\n",
              "0  video33327.mp4__frame176.png  unknown\n",
              "1  video33327.mp4__frame176.png  unknown\n",
              "2  video33642.mp4__frame110.png  unknown\n",
              "3  video33642.mp4__frame110.png  unknown\n",
              "4   video33642.mp4__frame66.png  unknown"
            ]
          },
          "metadata": {
            "tags": []
          },
          "execution_count": 330
        }
      ]
    },
    {
      "cell_type": "code",
      "metadata": {
        "id": "GpnskeaYkYT1",
        "colab_type": "code",
        "outputId": "c7b67af4-ee2a-48fa-c1c4-1484db2d473e",
        "colab": {
          "base_uri": "https://localhost:8080/",
          "height": 236
        }
      },
      "source": [
        "df_final = df_fulltest.merge(df_quadrants, on = \"img_name\") # creates final data frame \n",
        "df_final.head()\n"
      ],
      "execution_count": 331,
      "outputs": [
        {
          "output_type": "execute_result",
          "data": {
            "text/html": [
              "<div>\n",
              "<style scoped>\n",
              "    .dataframe tbody tr th:only-of-type {\n",
              "        vertical-align: middle;\n",
              "    }\n",
              "\n",
              "    .dataframe tbody tr th {\n",
              "        vertical-align: top;\n",
              "    }\n",
              "\n",
              "    .dataframe thead th {\n",
              "        text-align: right;\n",
              "    }\n",
              "</style>\n",
              "<table border=\"1\" class=\"dataframe\">\n",
              "  <thead>\n",
              "    <tr style=\"text-align: right;\">\n",
              "      <th></th>\n",
              "      <th>index</th>\n",
              "      <th>Unnamed: 0</th>\n",
              "      <th>img_name</th>\n",
              "      <th>actual_qual</th>\n",
              "      <th>Quality 1</th>\n",
              "      <th>Quality 2</th>\n",
              "      <th>Quality 3</th>\n",
              "      <th>Quality 4</th>\n",
              "      <th>Quality 5</th>\n",
              "      <th>predicted_qual</th>\n",
              "      <th>Weights</th>\n",
              "      <th>calibration_predict</th>\n",
              "      <th>Quadrant</th>\n",
              "    </tr>\n",
              "  </thead>\n",
              "  <tbody>\n",
              "    <tr>\n",
              "      <th>0</th>\n",
              "      <td>230</td>\n",
              "      <td>230</td>\n",
              "      <td>video35132[1].mp4__frame66.png</td>\n",
              "      <td>5</td>\n",
              "      <td>0.000</td>\n",
              "      <td>0.001</td>\n",
              "      <td>0.033</td>\n",
              "      <td>0.897</td>\n",
              "      <td>0.019</td>\n",
              "      <td>3.983158</td>\n",
              "      <td>3.504384</td>\n",
              "      <td>3.817900</td>\n",
              "      <td>subcostal</td>\n",
              "    </tr>\n",
              "    <tr>\n",
              "      <th>1</th>\n",
              "      <td>117</td>\n",
              "      <td>117</td>\n",
              "      <td>video33540.mp4__frame22.png</td>\n",
              "      <td>3</td>\n",
              "      <td>0.008</td>\n",
              "      <td>0.086</td>\n",
              "      <td>0.869</td>\n",
              "      <td>0.083</td>\n",
              "      <td>0.003</td>\n",
              "      <td>2.987607</td>\n",
              "      <td>0.569781</td>\n",
              "      <td>3.566635</td>\n",
              "      <td>right_upper_quadrant</td>\n",
              "    </tr>\n",
              "    <tr>\n",
              "      <th>2</th>\n",
              "      <td>117</td>\n",
              "      <td>117</td>\n",
              "      <td>video33540.mp4__frame22.png</td>\n",
              "      <td>3</td>\n",
              "      <td>0.008</td>\n",
              "      <td>0.086</td>\n",
              "      <td>0.869</td>\n",
              "      <td>0.083</td>\n",
              "      <td>0.003</td>\n",
              "      <td>2.987607</td>\n",
              "      <td>0.569781</td>\n",
              "      <td>3.566635</td>\n",
              "      <td>right_upper_quadrant</td>\n",
              "    </tr>\n",
              "    <tr>\n",
              "      <th>3</th>\n",
              "      <td>233</td>\n",
              "      <td>233</td>\n",
              "      <td>video35898.mp4__frame44.png</td>\n",
              "      <td>5</td>\n",
              "      <td>0.000</td>\n",
              "      <td>0.001</td>\n",
              "      <td>0.111</td>\n",
              "      <td>0.881</td>\n",
              "      <td>0.019</td>\n",
              "      <td>3.907115</td>\n",
              "      <td>3.504384</td>\n",
              "      <td>4.031308</td>\n",
              "      <td>left_upper_quadrant</td>\n",
              "    </tr>\n",
              "    <tr>\n",
              "      <th>4</th>\n",
              "      <td>143</td>\n",
              "      <td>143</td>\n",
              "      <td>video33941.mp4__frame44.png</td>\n",
              "      <td>3</td>\n",
              "      <td>0.002</td>\n",
              "      <td>0.272</td>\n",
              "      <td>0.409</td>\n",
              "      <td>0.296</td>\n",
              "      <td>0.454</td>\n",
              "      <td>3.647592</td>\n",
              "      <td>0.569781</td>\n",
              "      <td>4.558276</td>\n",
              "      <td>right_upper_quadrant</td>\n",
              "    </tr>\n",
              "  </tbody>\n",
              "</table>\n",
              "</div>"
            ],
            "text/plain": [
              "   index  Unnamed: 0  ... calibration_predict              Quadrant\n",
              "0    230         230  ...            3.817900             subcostal\n",
              "1    117         117  ...            3.566635  right_upper_quadrant\n",
              "2    117         117  ...            3.566635  right_upper_quadrant\n",
              "3    233         233  ...            4.031308   left_upper_quadrant\n",
              "4    143         143  ...            4.558276  right_upper_quadrant\n",
              "\n",
              "[5 rows x 13 columns]"
            ]
          },
          "metadata": {
            "tags": []
          },
          "execution_count": 331
        }
      ]
    },
    {
      "cell_type": "code",
      "metadata": {
        "id": "U1xDGqWDlWuP",
        "colab_type": "code",
        "colab": {}
      },
      "source": [
        "dffinalcolumns = [\"img_name\", \"actual_qual\", \"Quality 1\", \"Quality 2\", \"Quality 3\", \"Quality 4\", \"Quality 5\", \"Weights\", \"predicted_qual\", \"calibration_predict\", \"Quadrant\" ]\n",
        "df_final = df_final.reindex(columns = dffinalcolumns)\n",
        "df_final.head()\n",
        "df_final.to_csv(\"Calibrated_Model_Predictions.csv\")"
      ],
      "execution_count": 0,
      "outputs": []
    },
    {
      "cell_type": "code",
      "metadata": {
        "id": "KalNSTMYrIux",
        "colab_type": "code",
        "colab": {
          "base_uri": "https://localhost:8080/",
          "height": 745
        },
        "outputId": "b293e6ad-e340-4293-bbbd-a74330518b6d"
      },
      "source": [
        "dferrorquads = df_final.groupby(['actual_qual', 'Quadrant']).apply(lambda x: mean_absolute_error(x.actual_qual, x.calibration_predict))\n",
        "dferrorquads = pd.DataFrame(data = dferrorquads)\n",
        "dferrorquads\n"
      ],
      "execution_count": 347,
      "outputs": [
        {
          "output_type": "execute_result",
          "data": {
            "text/html": [
              "<div>\n",
              "<style scoped>\n",
              "    .dataframe tbody tr th:only-of-type {\n",
              "        vertical-align: middle;\n",
              "    }\n",
              "\n",
              "    .dataframe tbody tr th {\n",
              "        vertical-align: top;\n",
              "    }\n",
              "\n",
              "    .dataframe thead th {\n",
              "        text-align: right;\n",
              "    }\n",
              "</style>\n",
              "<table border=\"1\" class=\"dataframe\">\n",
              "  <thead>\n",
              "    <tr style=\"text-align: right;\">\n",
              "      <th></th>\n",
              "      <th></th>\n",
              "      <th>0</th>\n",
              "    </tr>\n",
              "    <tr>\n",
              "      <th>actual_qual</th>\n",
              "      <th>Quadrant</th>\n",
              "      <th></th>\n",
              "    </tr>\n",
              "  </thead>\n",
              "  <tbody>\n",
              "    <tr>\n",
              "      <th rowspan=\"3\" valign=\"top\">1</th>\n",
              "      <th>right_upper_quadrant</th>\n",
              "      <td>0.168517</td>\n",
              "    </tr>\n",
              "    <tr>\n",
              "      <th>subcostal</th>\n",
              "      <td>0.016937</td>\n",
              "    </tr>\n",
              "    <tr>\n",
              "      <th>unknown</th>\n",
              "      <td>0.628947</td>\n",
              "    </tr>\n",
              "    <tr>\n",
              "      <th rowspan=\"5\" valign=\"top\">2</th>\n",
              "      <th>left_upper_quadrant</th>\n",
              "      <td>0.835893</td>\n",
              "    </tr>\n",
              "    <tr>\n",
              "      <th>right_upper_quadrant</th>\n",
              "      <td>0.976148</td>\n",
              "    </tr>\n",
              "    <tr>\n",
              "      <th>subcostal</th>\n",
              "      <td>1.233591</td>\n",
              "    </tr>\n",
              "    <tr>\n",
              "      <th>suprapubic</th>\n",
              "      <td>1.085858</td>\n",
              "    </tr>\n",
              "    <tr>\n",
              "      <th>unknown</th>\n",
              "      <td>0.786644</td>\n",
              "    </tr>\n",
              "    <tr>\n",
              "      <th rowspan=\"4\" valign=\"top\">3</th>\n",
              "      <th>left_upper_quadrant</th>\n",
              "      <td>0.955783</td>\n",
              "    </tr>\n",
              "    <tr>\n",
              "      <th>right_upper_quadrant</th>\n",
              "      <td>0.904806</td>\n",
              "    </tr>\n",
              "    <tr>\n",
              "      <th>suprapubic</th>\n",
              "      <td>0.747386</td>\n",
              "    </tr>\n",
              "    <tr>\n",
              "      <th>unknown</th>\n",
              "      <td>1.218234</td>\n",
              "    </tr>\n",
              "    <tr>\n",
              "      <th rowspan=\"4\" valign=\"top\">4</th>\n",
              "      <th>left_upper_quadrant</th>\n",
              "      <td>0.565148</td>\n",
              "    </tr>\n",
              "    <tr>\n",
              "      <th>right_upper_quadrant</th>\n",
              "      <td>0.523189</td>\n",
              "    </tr>\n",
              "    <tr>\n",
              "      <th>subcostal</th>\n",
              "      <td>0.974427</td>\n",
              "    </tr>\n",
              "    <tr>\n",
              "      <th>suprapubic</th>\n",
              "      <td>0.985855</td>\n",
              "    </tr>\n",
              "    <tr>\n",
              "      <th rowspan=\"6\" valign=\"top\">5</th>\n",
              "      <th>left_upper_quadrant</th>\n",
              "      <td>1.131554</td>\n",
              "    </tr>\n",
              "    <tr>\n",
              "      <th>pneumothorax</th>\n",
              "      <td>3.878387</td>\n",
              "    </tr>\n",
              "    <tr>\n",
              "      <th>right_upper_quadrant</th>\n",
              "      <td>1.126832</td>\n",
              "    </tr>\n",
              "    <tr>\n",
              "      <th>subcostal</th>\n",
              "      <td>0.487731</td>\n",
              "    </tr>\n",
              "    <tr>\n",
              "      <th>suprapubic</th>\n",
              "      <td>1.155488</td>\n",
              "    </tr>\n",
              "    <tr>\n",
              "      <th>unknown</th>\n",
              "      <td>3.878387</td>\n",
              "    </tr>\n",
              "  </tbody>\n",
              "</table>\n",
              "</div>"
            ],
            "text/plain": [
              "                                         0\n",
              "actual_qual Quadrant                      \n",
              "1           right_upper_quadrant  0.168517\n",
              "            subcostal             0.016937\n",
              "            unknown               0.628947\n",
              "2           left_upper_quadrant   0.835893\n",
              "            right_upper_quadrant  0.976148\n",
              "            subcostal             1.233591\n",
              "            suprapubic            1.085858\n",
              "            unknown               0.786644\n",
              "3           left_upper_quadrant   0.955783\n",
              "            right_upper_quadrant  0.904806\n",
              "            suprapubic            0.747386\n",
              "            unknown               1.218234\n",
              "4           left_upper_quadrant   0.565148\n",
              "            right_upper_quadrant  0.523189\n",
              "            subcostal             0.974427\n",
              "            suprapubic            0.985855\n",
              "5           left_upper_quadrant   1.131554\n",
              "            pneumothorax          3.878387\n",
              "            right_upper_quadrant  1.126832\n",
              "            subcostal             0.487731\n",
              "            suprapubic            1.155488\n",
              "            unknown               3.878387"
            ]
          },
          "metadata": {
            "tags": []
          },
          "execution_count": 347
        }
      ]
    },
    {
      "cell_type": "code",
      "metadata": {
        "id": "_Os7ATdqvbx_",
        "colab_type": "code",
        "colab": {
          "base_uri": "https://localhost:8080/",
          "height": 140
        },
        "outputId": "6cbfb106-c56b-4184-e961-7f04c3bbc983"
      },
      "source": [
        "\n",
        "dferrorqual = df_final.groupby([\"actual_qual\"]).apply(lambda x: mean_absolute_error(x.actual_qual, x.calibration_predict))\n",
        "dferrorqual.head()"
      ],
      "execution_count": 339,
      "outputs": [
        {
          "output_type": "execute_result",
          "data": {
            "text/plain": [
              "actual_qual\n",
              "1    0.587699\n",
              "2    0.983165\n",
              "3    0.915688\n",
              "4    0.722099\n",
              "5    1.290814\n",
              "dtype: float64"
            ]
          },
          "metadata": {
            "tags": []
          },
          "execution_count": 339
        }
      ]
    },
    {
      "cell_type": "markdown",
      "metadata": {
        "id": "Gr9M8TAFNAau",
        "colab_type": "text"
      },
      "source": [
        "## Get outputs"
      ]
    },
    {
      "cell_type": "code",
      "metadata": {
        "id": "9q2lhKSmH7hw",
        "colab_type": "code",
        "colab": {}
      },
      "source": [
        "# confusion matrix\n",
        "\n",
        "def plot_confusion_matrix(y_true, y_pred, classes,\n",
        "                          normalize=False,\n",
        "                          title=None,\n",
        "                          cmap=plt.cm.Blues):\n",
        "    \"\"\"\n",
        "    This function prints and plots the confusion matrix.\n",
        "    Normalization can be applied by setting `normalize=True`.\n",
        "    \"\"\"\n",
        "    if not title:\n",
        "        if normalize:\n",
        "            title = 'Normalized confusion matrix'\n",
        "        else:\n",
        "            title = 'Confusion matrix, without normalization'\n",
        "\n",
        "    # Compute confusion matrix\n",
        "    cm = confusion_matrix(y_true, y_pred)\n",
        "    # Only use the labels that appear in the data\n",
        "    if normalize:\n",
        "        cm = cm.astype('float') / cm.sum(axis=1)[:, np.newaxis]\n",
        "        print(\"Normalized confusion matrix\")\n",
        "    else:\n",
        "        print('Confusion matrix, without normalization')\n",
        "\n",
        "    print(cm)\n",
        "\n",
        "    fig, ax = plt.subplots()\n",
        "    im = ax.imshow(cm, interpolation='nearest', cmap=cmap)\n",
        "    ax.figure.colorbar(im, ax=ax)\n",
        "    # We want to show all ticks...\n",
        "    ax.set(xticks=np.arange(cm.shape[1]),\n",
        "           yticks=np.arange(cm.shape[0]),\n",
        "           # ... and label them with the respective list entries\n",
        "           xticklabels=classes, yticklabels=classes,\n",
        "           title=title,\n",
        "           ylabel='True label',\n",
        "           xlabel='Predicted label')\n",
        "\n",
        "    # Rotate the tick labels and set their alignment.\n",
        "    plt.setp(ax.get_xticklabels(), rotation=45, ha=\"right\",\n",
        "             rotation_mode=\"anchor\")\n",
        "\n",
        "    # Loop over data dimensions and create text annotations.\n",
        "    fmt = '.2f' if normalize else 'd'\n",
        "    thresh = cm.max() / 2.\n",
        "    for i in range(cm.shape[0]):\n",
        "        for j in range(cm.shape[1]):\n",
        "            ax.text(j, i, format(cm[i, j], fmt),\n",
        "                    ha=\"center\", va=\"center\",\n",
        "                    color=\"white\" if cm[i, j] > thresh else \"black\")\n",
        "    fig.tight_layout()\n",
        "    return ax\n",
        "  \n",
        "\n",
        "CalQual = df_final[\"calibration_predict\"].values.tolist()\n",
        "i = 0\n",
        "for x in CalQual:\n",
        "  if x<1:\n",
        "    CalQual[i] = 1\n",
        "  elif x> 5:\n",
        "    CalQual[i] = 5\n",
        "  else:\n",
        "    CalQual[i] = round(x)\n",
        "  i = i + 1\n",
        "  \n",
        "print(CalQual) \n",
        "  \n",
        "TruQual = df_final['actual_qual'].values.tolist()\n",
        "\n",
        "a = plot_confusion_matrix(TruQual, CalQual, classes = ['Quality 1', 'Quality 2', 'Quality 3', 'Quality 4', 'Quality 5']) \n",
        "  \n",
        "plt.savefig(\"confusion_matrix_WOnorm.png\")  \n",
        "  \n"
      ],
      "execution_count": 0,
      "outputs": []
    },
    {
      "cell_type": "code",
      "metadata": {
        "id": "l_lC6NJo2AsT",
        "colab_type": "code",
        "colab": {
          "base_uri": "https://localhost:8080/",
          "height": 402
        },
        "outputId": "d262f274-373a-446d-f050-596c754030c5"
      },
      "source": [
        "# confusion matrix with normalization\n",
        "b = plot_confusion_matrix(TruQual, CalQual, normalize = True, classes = ['Quality 1', 'Quality 2', 'Quality 3', 'Quality 4', 'Quality 5'] )\n",
        "\n",
        "\n",
        "plt.savefig(\"confusion_matrix_norm.png\")"
      ],
      "execution_count": 353,
      "outputs": [
        {
          "output_type": "stream",
          "text": [
            "Normalized confusion matrix\n",
            "[[0.69230769 0.11538462 0.11538462 0.07692308 0.        ]\n",
            " [0.25862069 0.22413793 0.44827586 0.05172414 0.01724138]\n",
            " [0.10714286 0.16071429 0.26785714 0.35714286 0.10714286]\n",
            " [0.         0.12195122 0.29268293 0.26829268 0.31707317]\n",
            " [0.08695652 0.08695652 0.04347826 0.47826087 0.30434783]]\n"
          ],
          "name": "stdout"
        },
        {
          "output_type": "display_data",
          "data": {
            "image/png": "[encoded data removed]",
            "text/plain": [
              "<Figure size 432x288 with 2 Axes>"
            ]
          },
          "metadata": {
            "tags": []
          }
        }
      ]
    },
    {
      "cell_type": "code",
      "metadata": {
        "id": "NGOyn2MiNQWq",
        "colab_type": "code",
        "colab": {}
      },
      "source": [
        "# nice quality-level performance table\n"
      ],
      "execution_count": 0,
      "outputs": []
    },
    {
      "cell_type": "code",
      "metadata": {
        "id": "SM_FCetRNS1m",
        "colab_type": "code",
        "colab": {}
      },
      "source": [
        "# quality-level performance by region"
      ],
      "execution_count": 0,
      "outputs": []
    },
    {
      "cell_type": "code",
      "metadata": {
        "id": "jHC6N877OFFz",
        "colab_type": "code",
        "outputId": "eeae7aa4-c636-4554-e287-3ea3ad4d1bc2",
        "colab": {
          "base_uri": "https://localhost:8080/",
          "height": 1039
        }
      },
      "source": [
        "# Distribution of predication sfor each equality level \n",
        "\n",
        "fig, axarr = plt.subplots(5, sharex=True, sharey=True, figsize=(14,14))\n",
        "for i in range(1,6):\n",
        " \n",
        "  dfi = df_final.loc[df_final.actual_qual==i, ]\n",
        "  ax = axarr[i-1]\n",
        "  ax.hist(dfi['calibration_predict']);\n",
        "  plottitle = \"Quality \" + str(i) + \" Predictions\"\n",
        "  ax.set_title(plottitle)\n",
        "  ax.set_ylabel('Num of Imgs')\n",
        "  plt.setp(ax.get_xticklabels(), fontsize = 14)\n",
        "  \n",
        "  \n",
        "\n",
        "# plt.xlim([0,1])\n",
        "# plt.ylim([0,10])\n",
        "plt.tight_layout(pad=1)\n",
        "fig.show()\n",
        "plt.savefig(\"Distribution_of_predictions_for_each_quality_level.png\")\n"
      ],
      "execution_count": 354,
      "outputs": [
        {
          "output_type": "display_data",
          "data": {
            "image/png": "[encoded data removed]",
            "text/plain": [
              "<Figure size 1008x1008 with 5 Axes>"
            ]
          },
          "metadata": {
            "tags": []
          }
        }
      ]
    },
    {
      "cell_type": "code",
      "metadata": {
        "id": "r3SBAU4-JnHj",
        "colab_type": "code",
        "outputId": "c037752f-8004-4ee3-aa99-a8cc97038cdd",
        "colab": {
          "base_uri": "https://localhost:8080/",
          "height": 34
        }
      },
      "source": [
        "plt.savefig(\"Distribution_of_predictions_for_each_quality_level.png\")\n"
      ],
      "execution_count": 337,
      "outputs": [
        {
          "output_type": "display_data",
          "data": {
            "text/plain": [
              "<Figure size 432x288 with 0 Axes>"
            ]
          },
          "metadata": {
            "tags": []
          }
        }
      ]
    }
  ]
}