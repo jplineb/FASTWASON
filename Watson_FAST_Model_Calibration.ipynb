{
  "nbformat": 4,
  "nbformat_minor": 0,
  "metadata": {
    "colab": {
      "name": "Watson FAST Model Calibration.ipynb",
      "version": "0.3.2",
      "provenance": [],
      "include_colab_link": true
    },
    "kernelspec": {
      "name": "python3",
      "display_name": "Python 3"
    }
  },
  "cells": [
    {
      "cell_type": "markdown",
      "metadata": {
        "id": "view-in-github",
        "colab_type": "text"
      },
      "source": [
        "<a href=\"https://colab.research.google.com/github/jplineb/FASTWASON/blob/master/Watson_FAST_Model_Calibration.ipynb\" target=\"_parent\"><img src=\"https://colab.research.google.com/assets/colab-badge.svg\" alt=\"Open In Colab\"/></a>"
      ]
    },
    {
      "cell_type": "code",
      "metadata": {
        "id": "zx3U-8ARDpjB",
        "colab_type": "code",
        "colab": {}
      },
      "source": [
        "import pandas as pd\n",
        "import numpy as np\n",
        "import matplotlib.pyplot as plt\n",
        "from sklearn.linear_model import LinearRegression\n",
        "from sklearn.model_selection import train_test_split\n",
        "from sklearn.metrics import mean_squared_error, mean_absolute_error\n",
        "from sklearn.metrics import confusion_matrix\n",
        "from sklearn.utils.multiclass import unique_labels\n",
        "import plotly.plotly as py\n",
        "import plotly.graph_objs as go\n"
      ],
      "execution_count": 0,
      "outputs": []
    },
    {
      "cell_type": "code",
      "metadata": {
        "id": "TaDldprREWTC",
        "colab_type": "code",
        "colab": {}
      },
      "source": [
        "calib_frac = 0.25"
      ],
      "execution_count": 0,
      "outputs": []
    },
    {
      "cell_type": "markdown",
      "metadata": {
        "id": "kzE_1HXSEHRm",
        "colab_type": "text"
      },
      "source": [
        "## Load and prepare the data"
      ]
    },
    {
      "cell_type": "code",
      "metadata": {
        "id": "KBeALsvyEFgj",
        "colab_type": "code",
        "outputId": "691e9763-6ae7-4fa0-9ecc-6a2a2a6f2502",
        "colab": {
          "base_uri": "https://localhost:8080/",
          "height": 236
        }
      },
      "source": [
        "df = pd.read_csv(\"FASTDataFrameNice.csv\")\n",
        "df.head()"
      ],
      "execution_count": 0,
      "outputs": [
        {
          "output_type": "execute_result",
          "data": {
            "text/html": [
              "<div>\n",
              "<style scoped>\n",
              "    .dataframe tbody tr th:only-of-type {\n",
              "        vertical-align: middle;\n",
              "    }\n",
              "\n",
              "    .dataframe tbody tr th {\n",
              "        vertical-align: top;\n",
              "    }\n",
              "\n",
              "    .dataframe thead th {\n",
              "        text-align: right;\n",
              "    }\n",
              "</style>\n",
              "<table border=\"1\" class=\"dataframe\">\n",
              "  <thead>\n",
              "    <tr style=\"text-align: right;\">\n",
              "      <th></th>\n",
              "      <th>Unnamed: 0</th>\n",
              "      <th>img_name</th>\n",
              "      <th>actual_qual</th>\n",
              "      <th>Quality 1</th>\n",
              "      <th>Quality 2</th>\n",
              "      <th>Quality 3</th>\n",
              "      <th>Quality 4</th>\n",
              "      <th>Quality 5</th>\n",
              "      <th>predicted_qual</th>\n",
              "    </tr>\n",
              "  </thead>\n",
              "  <tbody>\n",
              "    <tr>\n",
              "      <th>0</th>\n",
              "      <td>0</td>\n",
              "      <td>video33327.mp4__frame176.png</td>\n",
              "      <td>1</td>\n",
              "      <td>0.907</td>\n",
              "      <td>0.001</td>\n",
              "      <td>0.000</td>\n",
              "      <td>0.000</td>\n",
              "      <td>0.000</td>\n",
              "      <td>1.001101</td>\n",
              "    </tr>\n",
              "    <tr>\n",
              "      <th>1</th>\n",
              "      <td>1</td>\n",
              "      <td>video33642.mp4__frame110.png</td>\n",
              "      <td>1</td>\n",
              "      <td>0.418</td>\n",
              "      <td>0.108</td>\n",
              "      <td>0.153</td>\n",
              "      <td>0.663</td>\n",
              "      <td>0.004</td>\n",
              "      <td>2.797177</td>\n",
              "    </tr>\n",
              "    <tr>\n",
              "      <th>2</th>\n",
              "      <td>2</td>\n",
              "      <td>video33642.mp4__frame66.png</td>\n",
              "      <td>1</td>\n",
              "      <td>0.891</td>\n",
              "      <td>0.017</td>\n",
              "      <td>0.031</td>\n",
              "      <td>0.035</td>\n",
              "      <td>0.000</td>\n",
              "      <td>1.188912</td>\n",
              "    </tr>\n",
              "    <tr>\n",
              "      <th>3</th>\n",
              "      <td>3</td>\n",
              "      <td>video33671.mp4__frame66.png</td>\n",
              "      <td>1</td>\n",
              "      <td>0.031</td>\n",
              "      <td>0.269</td>\n",
              "      <td>0.833</td>\n",
              "      <td>0.004</td>\n",
              "      <td>0.000</td>\n",
              "      <td>2.712401</td>\n",
              "    </tr>\n",
              "    <tr>\n",
              "      <th>4</th>\n",
              "      <td>4</td>\n",
              "      <td>video33671.mp4__frame88.png</td>\n",
              "      <td>1</td>\n",
              "      <td>0.010</td>\n",
              "      <td>0.898</td>\n",
              "      <td>0.035</td>\n",
              "      <td>0.001</td>\n",
              "      <td>0.000</td>\n",
              "      <td>2.028602</td>\n",
              "    </tr>\n",
              "  </tbody>\n",
              "</table>\n",
              "</div>"
            ],
            "text/plain": [
              "   Unnamed: 0                      img_name  ...  Quality 5  predicted_qual\n",
              "0           0  video33327.mp4__frame176.png  ...      0.000        1.001101\n",
              "1           1  video33642.mp4__frame110.png  ...      0.004        2.797177\n",
              "2           2   video33642.mp4__frame66.png  ...      0.000        1.188912\n",
              "3           3   video33671.mp4__frame66.png  ...      0.000        2.712401\n",
              "4           4   video33671.mp4__frame88.png  ...      0.000        2.028602\n",
              "\n",
              "[5 rows x 9 columns]"
            ]
          },
          "metadata": {
            "tags": []
          },
          "execution_count": 1181
        }
      ]
    },
    {
      "cell_type": "code",
      "metadata": {
        "id": "-NNGDBwhElh2",
        "colab_type": "code",
        "outputId": "69f90963-9d61-4a8b-d7a9-dbab5706fe88",
        "colab": {
          "base_uri": "https://localhost:8080/",
          "height": 105
        }
      },
      "source": [
        "# pull off target and variable columns\n",
        "y = df.actual_qual.values\n",
        "X = df.iloc[:, 3:8].values\n",
        "X[:5]"
      ],
      "execution_count": 0,
      "outputs": [
        {
          "output_type": "execute_result",
          "data": {
            "text/plain": [
              "array([[0.907, 0.001, 0.   , 0.   , 0.   ],\n",
              "       [0.418, 0.108, 0.153, 0.663, 0.004],\n",
              "       [0.891, 0.017, 0.031, 0.035, 0.   ],\n",
              "       [0.031, 0.269, 0.833, 0.004, 0.   ],\n",
              "       [0.01 , 0.898, 0.035, 0.001, 0.   ]])"
            ]
          },
          "metadata": {
            "tags": []
          },
          "execution_count": 1182
        }
      ]
    },
    {
      "cell_type": "code",
      "metadata": {
        "id": "If-Z1I--LlXZ",
        "colab_type": "code",
        "outputId": "505ae180-6c2a-4ad6-87c1-dec8e3afa4e3",
        "colab": {
          "base_uri": "https://localhost:8080/",
          "height": 1177
        }
      },
      "source": [
        "# get sample weights to balance quality levels\n",
        "qual_counts = df.groupby(\"actual_qual\")['actual_qual'].agg('count').values\n",
        "print(qual_counts)\n",
        "print(sum(qual_counts))\n",
        "weights =  (234/5)/qual_counts\n",
        "weights = weights**2\n",
        "print(weights)\n",
        "print(qual_counts/ sum(qual_counts) * weights)\n",
        "\n",
        "def get_weight(qual):\n",
        "  wt = weights[qual-1]\n",
        "  return wt\n",
        "\n",
        "get_weight(3)\n",
        "\n",
        "y_weights = df.actual_qual.apply(get_weight)\n",
        "print(y_weights)"
      ],
      "execution_count": 0,
      "outputs": [
        {
          "output_type": "stream",
          "text": [
            "[35 69 62 43 25]\n",
            "234\n",
            "[1.78795102 0.46003781 0.56978148 1.18455381 3.504384  ]\n",
            "[0.26742857 0.13565217 0.15096774 0.21767442 0.3744    ]\n",
            "0      1.787951\n",
            "1      1.787951\n",
            "2      1.787951\n",
            "3      1.787951\n",
            "4      1.787951\n",
            "5      1.787951\n",
            "6      1.787951\n",
            "7      1.787951\n",
            "8      1.787951\n",
            "9      1.787951\n",
            "10     1.787951\n",
            "11     1.787951\n",
            "12     1.787951\n",
            "13     1.787951\n",
            "14     1.787951\n",
            "15     1.787951\n",
            "16     1.787951\n",
            "17     1.787951\n",
            "18     1.787951\n",
            "19     1.787951\n",
            "20     1.787951\n",
            "21     1.787951\n",
            "22     1.787951\n",
            "23     1.787951\n",
            "24     1.787951\n",
            "25     1.787951\n",
            "26     1.787951\n",
            "27     1.787951\n",
            "28     1.787951\n",
            "29     1.787951\n",
            "         ...   \n",
            "204    1.184554\n",
            "205    1.184554\n",
            "206    1.184554\n",
            "207    1.184554\n",
            "208    1.184554\n",
            "209    3.504384\n",
            "210    3.504384\n",
            "211    3.504384\n",
            "212    3.504384\n",
            "213    3.504384\n",
            "214    3.504384\n",
            "215    3.504384\n",
            "216    3.504384\n",
            "217    3.504384\n",
            "218    3.504384\n",
            "219    3.504384\n",
            "220    3.504384\n",
            "221    3.504384\n",
            "222    3.504384\n",
            "223    3.504384\n",
            "224    3.504384\n",
            "225    3.504384\n",
            "226    3.504384\n",
            "227    3.504384\n",
            "228    3.504384\n",
            "229    3.504384\n",
            "230    3.504384\n",
            "231    3.504384\n",
            "232    3.504384\n",
            "233    3.504384\n",
            "Name: actual_qual, Length: 234, dtype: float64\n"
          ],
          "name": "stdout"
        }
      ]
    },
    {
      "cell_type": "code",
      "metadata": {
        "id": "JbW2H4I9XH1o",
        "colab_type": "code",
        "outputId": "7e039c7a-5d5f-4e37-ee64-e0f421a9ade2",
        "colab": {
          "base_uri": "https://localhost:8080/",
          "height": 236
        }
      },
      "source": [
        "df['Weights'] = y_weights\n",
        "df.head()"
      ],
      "execution_count": 0,
      "outputs": [
        {
          "output_type": "execute_result",
          "data": {
            "text/html": [
              "<div>\n",
              "<style scoped>\n",
              "    .dataframe tbody tr th:only-of-type {\n",
              "        vertical-align: middle;\n",
              "    }\n",
              "\n",
              "    .dataframe tbody tr th {\n",
              "        vertical-align: top;\n",
              "    }\n",
              "\n",
              "    .dataframe thead th {\n",
              "        text-align: right;\n",
              "    }\n",
              "</style>\n",
              "<table border=\"1\" class=\"dataframe\">\n",
              "  <thead>\n",
              "    <tr style=\"text-align: right;\">\n",
              "      <th></th>\n",
              "      <th>Unnamed: 0</th>\n",
              "      <th>img_name</th>\n",
              "      <th>actual_qual</th>\n",
              "      <th>Quality 1</th>\n",
              "      <th>Quality 2</th>\n",
              "      <th>Quality 3</th>\n",
              "      <th>Quality 4</th>\n",
              "      <th>Quality 5</th>\n",
              "      <th>predicted_qual</th>\n",
              "      <th>Weights</th>\n",
              "    </tr>\n",
              "  </thead>\n",
              "  <tbody>\n",
              "    <tr>\n",
              "      <th>0</th>\n",
              "      <td>0</td>\n",
              "      <td>video33327.mp4__frame176.png</td>\n",
              "      <td>1</td>\n",
              "      <td>0.907</td>\n",
              "      <td>0.001</td>\n",
              "      <td>0.000</td>\n",
              "      <td>0.000</td>\n",
              "      <td>0.000</td>\n",
              "      <td>1.001101</td>\n",
              "      <td>1.787951</td>\n",
              "    </tr>\n",
              "    <tr>\n",
              "      <th>1</th>\n",
              "      <td>1</td>\n",
              "      <td>video33642.mp4__frame110.png</td>\n",
              "      <td>1</td>\n",
              "      <td>0.418</td>\n",
              "      <td>0.108</td>\n",
              "      <td>0.153</td>\n",
              "      <td>0.663</td>\n",
              "      <td>0.004</td>\n",
              "      <td>2.797177</td>\n",
              "      <td>1.787951</td>\n",
              "    </tr>\n",
              "    <tr>\n",
              "      <th>2</th>\n",
              "      <td>2</td>\n",
              "      <td>video33642.mp4__frame66.png</td>\n",
              "      <td>1</td>\n",
              "      <td>0.891</td>\n",
              "      <td>0.017</td>\n",
              "      <td>0.031</td>\n",
              "      <td>0.035</td>\n",
              "      <td>0.000</td>\n",
              "      <td>1.188912</td>\n",
              "      <td>1.787951</td>\n",
              "    </tr>\n",
              "    <tr>\n",
              "      <th>3</th>\n",
              "      <td>3</td>\n",
              "      <td>video33671.mp4__frame66.png</td>\n",
              "      <td>1</td>\n",
              "      <td>0.031</td>\n",
              "      <td>0.269</td>\n",
              "      <td>0.833</td>\n",
              "      <td>0.004</td>\n",
              "      <td>0.000</td>\n",
              "      <td>2.712401</td>\n",
              "      <td>1.787951</td>\n",
              "    </tr>\n",
              "    <tr>\n",
              "      <th>4</th>\n",
              "      <td>4</td>\n",
              "      <td>video33671.mp4__frame88.png</td>\n",
              "      <td>1</td>\n",
              "      <td>0.010</td>\n",
              "      <td>0.898</td>\n",
              "      <td>0.035</td>\n",
              "      <td>0.001</td>\n",
              "      <td>0.000</td>\n",
              "      <td>2.028602</td>\n",
              "      <td>1.787951</td>\n",
              "    </tr>\n",
              "  </tbody>\n",
              "</table>\n",
              "</div>"
            ],
            "text/plain": [
              "   Unnamed: 0                      img_name  ...  predicted_qual   Weights\n",
              "0           0  video33327.mp4__frame176.png  ...        1.001101  1.787951\n",
              "1           1  video33642.mp4__frame110.png  ...        2.797177  1.787951\n",
              "2           2   video33642.mp4__frame66.png  ...        1.188912  1.787951\n",
              "3           3   video33671.mp4__frame66.png  ...        2.712401  1.787951\n",
              "4           4   video33671.mp4__frame88.png  ...        2.028602  1.787951\n",
              "\n",
              "[5 rows x 10 columns]"
            ]
          },
          "metadata": {
            "tags": []
          },
          "execution_count": 1184
        }
      ]
    },
    {
      "cell_type": "code",
      "metadata": {
        "id": "aZxBRC8TFLmu",
        "colab_type": "code",
        "outputId": "978e82ec-59b5-4815-8df3-88f78739b152",
        "colab": {
          "base_uri": "https://localhost:8080/",
          "height": 254
        }
      },
      "source": [
        "# train/test split\n",
        "# X_train, X_test, y_train, y_test, y_weights_train, _ = train_test_split(X, y, y_weights, test_size=1-calib_frac, stratify=y)\n",
        "df_train, df_test = train_test_split(df, test_size=1-calib_frac, stratify=df.actual_qual)\n",
        "print(df_train.shape)\n",
        "df_test.head()"
      ],
      "execution_count": 0,
      "outputs": [
        {
          "output_type": "stream",
          "text": [
            "(58, 10)\n"
          ],
          "name": "stdout"
        },
        {
          "output_type": "execute_result",
          "data": {
            "text/html": [
              "<div>\n",
              "<style scoped>\n",
              "    .dataframe tbody tr th:only-of-type {\n",
              "        vertical-align: middle;\n",
              "    }\n",
              "\n",
              "    .dataframe tbody tr th {\n",
              "        vertical-align: top;\n",
              "    }\n",
              "\n",
              "    .dataframe thead th {\n",
              "        text-align: right;\n",
              "    }\n",
              "</style>\n",
              "<table border=\"1\" class=\"dataframe\">\n",
              "  <thead>\n",
              "    <tr style=\"text-align: right;\">\n",
              "      <th></th>\n",
              "      <th>Unnamed: 0</th>\n",
              "      <th>img_name</th>\n",
              "      <th>actual_qual</th>\n",
              "      <th>Quality 1</th>\n",
              "      <th>Quality 2</th>\n",
              "      <th>Quality 3</th>\n",
              "      <th>Quality 4</th>\n",
              "      <th>Quality 5</th>\n",
              "      <th>predicted_qual</th>\n",
              "      <th>Weights</th>\n",
              "    </tr>\n",
              "  </thead>\n",
              "  <tbody>\n",
              "    <tr>\n",
              "      <th>100</th>\n",
              "      <td>100</td>\n",
              "      <td>video34526[1].mp4__frame44.png</td>\n",
              "      <td>2</td>\n",
              "      <td>0.359</td>\n",
              "      <td>0.028</td>\n",
              "      <td>0.803</td>\n",
              "      <td>0.000</td>\n",
              "      <td>0.000</td>\n",
              "      <td>2.373109</td>\n",
              "      <td>0.460038</td>\n",
              "    </tr>\n",
              "    <tr>\n",
              "      <th>126</th>\n",
              "      <td>126</td>\n",
              "      <td>video33547.mp4__frame88.png</td>\n",
              "      <td>3</td>\n",
              "      <td>0.000</td>\n",
              "      <td>0.000</td>\n",
              "      <td>0.893</td>\n",
              "      <td>0.066</td>\n",
              "      <td>0.004</td>\n",
              "      <td>3.076843</td>\n",
              "      <td>0.569781</td>\n",
              "    </tr>\n",
              "    <tr>\n",
              "      <th>29</th>\n",
              "      <td>29</td>\n",
              "      <td>video34513.mp4__frame44.png</td>\n",
              "      <td>1</td>\n",
              "      <td>0.907</td>\n",
              "      <td>0.001</td>\n",
              "      <td>0.000</td>\n",
              "      <td>0.000</td>\n",
              "      <td>0.000</td>\n",
              "      <td>1.001101</td>\n",
              "      <td>1.787951</td>\n",
              "    </tr>\n",
              "    <tr>\n",
              "      <th>54</th>\n",
              "      <td>54</td>\n",
              "      <td>video33642.mp4__frame44.png</td>\n",
              "      <td>2</td>\n",
              "      <td>0.874</td>\n",
              "      <td>0.127</td>\n",
              "      <td>0.027</td>\n",
              "      <td>0.005</td>\n",
              "      <td>0.001</td>\n",
              "      <td>1.193424</td>\n",
              "      <td>0.460038</td>\n",
              "    </tr>\n",
              "    <tr>\n",
              "      <th>176</th>\n",
              "      <td>176</td>\n",
              "      <td>video33663.mp4__frame22.png</td>\n",
              "      <td>4</td>\n",
              "      <td>0.000</td>\n",
              "      <td>0.101</td>\n",
              "      <td>0.875</td>\n",
              "      <td>0.045</td>\n",
              "      <td>0.008</td>\n",
              "      <td>2.961127</td>\n",
              "      <td>1.184554</td>\n",
              "    </tr>\n",
              "  </tbody>\n",
              "</table>\n",
              "</div>"
            ],
            "text/plain": [
              "     Unnamed: 0                        img_name  ...  predicted_qual   Weights\n",
              "100         100  video34526[1].mp4__frame44.png  ...        2.373109  0.460038\n",
              "126         126     video33547.mp4__frame88.png  ...        3.076843  0.569781\n",
              "29           29     video34513.mp4__frame44.png  ...        1.001101  1.787951\n",
              "54           54     video33642.mp4__frame44.png  ...        1.193424  0.460038\n",
              "176         176     video33663.mp4__frame22.png  ...        2.961127  1.184554\n",
              "\n",
              "[5 rows x 10 columns]"
            ]
          },
          "metadata": {
            "tags": []
          },
          "execution_count": 1185
        }
      ]
    },
    {
      "cell_type": "code",
      "metadata": {
        "id": "aFgA7riQSeZt",
        "colab_type": "code",
        "outputId": "59686402-9ef1-4283-9a7b-4d997dec2ed2",
        "colab": {
          "base_uri": "https://localhost:8080/",
          "height": 52
        }
      },
      "source": [
        "# Split the train and test data set\n",
        "\n",
        "### Test ###\n",
        "y_dftest = df_test.actual_qual.values # is array\n",
        "x_dftest = df_test.iloc[:, 3:8].values # is array\n",
        "\n",
        "\n",
        "### Train ###\n",
        "y_dftrain = df_train.actual_qual.values # is array\n",
        "x_dftrain = df_train.iloc[:, 3:8].values # is array\n",
        "y_dftrain_weights = df_train.Weights.values # is array\n",
        "x_dftrain[1:3]\n"
      ],
      "execution_count": 0,
      "outputs": [
        {
          "output_type": "execute_result",
          "data": {
            "text/plain": [
              "array([[0.001, 0.008, 0.862, 0.195, 0.003],\n",
              "       [0.901, 0.03 , 0.   , 0.   , 0.   ]])"
            ]
          },
          "metadata": {
            "tags": []
          },
          "execution_count": 1186
        }
      ]
    },
    {
      "cell_type": "code",
      "metadata": {
        "id": "lYwLTsXmWMzZ",
        "colab_type": "code",
        "colab": {}
      },
      "source": [
        ""
      ],
      "execution_count": 0,
      "outputs": []
    },
    {
      "cell_type": "code",
      "metadata": {
        "id": "3BtIhyf9Fjre",
        "colab_type": "code",
        "outputId": "9c4c911f-cd6c-4249-ef9e-f9abb04cfff1",
        "colab": {
          "base_uri": "https://localhost:8080/",
          "height": 105
        }
      },
      "source": [
        "print(x_dftrain.shape)\n",
        "print(x_dftest.shape)\n",
        "print(y_dftrain.shape)\n",
        "print(y_dftest.shape)\n",
        "print(y_dftrain_weights.shape)"
      ],
      "execution_count": 0,
      "outputs": [
        {
          "output_type": "stream",
          "text": [
            "(58, 5)\n",
            "(176, 5)\n",
            "(58,)\n",
            "(176,)\n",
            "(58,)\n"
          ],
          "name": "stdout"
        }
      ]
    },
    {
      "cell_type": "markdown",
      "metadata": {
        "id": "cb3Ni77lELI9",
        "colab_type": "text"
      },
      "source": [
        "## Train the calibration model"
      ]
    },
    {
      "cell_type": "code",
      "metadata": {
        "id": "plQ8IlD7ENE-",
        "colab_type": "code",
        "outputId": "93094dff-c168-49b4-b0f7-07c06663c414",
        "colab": {
          "base_uri": "https://localhost:8080/",
          "height": 34
        }
      },
      "source": [
        "estim = LinearRegression(fit_intercept= False)\n",
        "estim.fit(x_dftrain, y_dftrain, sample_weight=y_dftrain_weights)"
      ],
      "execution_count": 0,
      "outputs": [
        {
          "output_type": "execute_result",
          "data": {
            "text/plain": [
              "LinearRegression(copy_X=True, fit_intercept=False, n_jobs=None, normalize=False)"
            ]
          },
          "metadata": {
            "tags": []
          },
          "execution_count": 1188
        }
      ]
    },
    {
      "cell_type": "code",
      "metadata": {
        "id": "wP7q8ZFUGgtA",
        "colab_type": "code",
        "outputId": "45181e31-ac29-4765-b400-b56da3346866",
        "colab": {
          "base_uri": "https://localhost:8080/",
          "height": 34
        }
      },
      "source": [
        "# evaluate the mode:\n",
        "\n",
        "# look at fit coefs\n",
        "print(estim.coef_)\n",
        "# -> array([1.76293662, 2.13542102, 2.92516357, 3.10297302, 3.49912872])"
      ],
      "execution_count": 0,
      "outputs": [
        {
          "output_type": "stream",
          "text": [
            "[1.0933106  2.05243346 3.60871741 4.66683376 3.18399175]\n"
          ],
          "name": "stdout"
        }
      ]
    },
    {
      "cell_type": "markdown",
      "metadata": {
        "id": "Q_fyZZKNETX2",
        "colab_type": "text"
      },
      "source": [
        "## Get final scores"
      ]
    },
    {
      "cell_type": "code",
      "metadata": {
        "id": "QB1nd8Z4EViO",
        "colab_type": "code",
        "colab": {}
      },
      "source": [
        "# evaluate model on training set\n",
        "y_test_pred = estim.predict(x_dftest)"
      ],
      "execution_count": 0,
      "outputs": []
    },
    {
      "cell_type": "code",
      "metadata": {
        "id": "NwQr-OXhG6fX",
        "colab_type": "code",
        "outputId": "75eca15c-2e0f-4b22-c081-2fc61607b8cd",
        "colab": {
          "base_uri": "https://localhost:8080/",
          "height": 34
        }
      },
      "source": [
        "np.sqrt(mean_squared_error(y_dftest, y_test_pred))"
      ],
      "execution_count": 0,
      "outputs": [
        {
          "output_type": "execute_result",
          "data": {
            "text/plain": [
              "1.2258035548718549"
            ]
          },
          "metadata": {
            "tags": []
          },
          "execution_count": 1191
        }
      ]
    },
    {
      "cell_type": "code",
      "metadata": {
        "id": "5pNn6n00HWDP",
        "colab_type": "code",
        "outputId": "af0ffe34-3c5b-4bf7-d07b-be2febf82d05",
        "colab": {
          "base_uri": "https://localhost:8080/",
          "height": 34
        }
      },
      "source": [
        "mean_absolute_error(y_dftest, y_test_pred)"
      ],
      "execution_count": 0,
      "outputs": [
        {
          "output_type": "execute_result",
          "data": {
            "text/plain": [
              "0.947785627900341"
            ]
          },
          "metadata": {
            "tags": []
          },
          "execution_count": 1192
        }
      ]
    },
    {
      "cell_type": "code",
      "metadata": {
        "id": "0tL5YE9lHkDQ",
        "colab_type": "code",
        "outputId": "76f431cd-7111-4013-ede1-61683dc3754e",
        "colab": {
          "base_uri": "https://localhost:8080/",
          "height": 199
        }
      },
      "source": [
        "df_eval = pd.DataFrame(x_dftest)\n",
        "df_eval['y_test'] = y_dftest\n",
        "df_eval['y_test_pred'] = y_test_pred\n",
        "df_eval.head()"
      ],
      "execution_count": 0,
      "outputs": [
        {
          "output_type": "execute_result",
          "data": {
            "text/html": [
              "<div>\n",
              "<style scoped>\n",
              "    .dataframe tbody tr th:only-of-type {\n",
              "        vertical-align: middle;\n",
              "    }\n",
              "\n",
              "    .dataframe tbody tr th {\n",
              "        vertical-align: top;\n",
              "    }\n",
              "\n",
              "    .dataframe thead th {\n",
              "        text-align: right;\n",
              "    }\n",
              "</style>\n",
              "<table border=\"1\" class=\"dataframe\">\n",
              "  <thead>\n",
              "    <tr style=\"text-align: right;\">\n",
              "      <th></th>\n",
              "      <th>0</th>\n",
              "      <th>1</th>\n",
              "      <th>2</th>\n",
              "      <th>3</th>\n",
              "      <th>4</th>\n",
              "      <th>y_test</th>\n",
              "      <th>y_test_pred</th>\n",
              "    </tr>\n",
              "  </thead>\n",
              "  <tbody>\n",
              "    <tr>\n",
              "      <th>0</th>\n",
              "      <td>0.359</td>\n",
              "      <td>0.028</td>\n",
              "      <td>0.803</td>\n",
              "      <td>0.000</td>\n",
              "      <td>0.000</td>\n",
              "      <td>2</td>\n",
              "      <td>3.347767</td>\n",
              "    </tr>\n",
              "    <tr>\n",
              "      <th>1</th>\n",
              "      <td>0.000</td>\n",
              "      <td>0.000</td>\n",
              "      <td>0.893</td>\n",
              "      <td>0.066</td>\n",
              "      <td>0.004</td>\n",
              "      <td>3</td>\n",
              "      <td>3.543332</td>\n",
              "    </tr>\n",
              "    <tr>\n",
              "      <th>2</th>\n",
              "      <td>0.907</td>\n",
              "      <td>0.001</td>\n",
              "      <td>0.000</td>\n",
              "      <td>0.000</td>\n",
              "      <td>0.000</td>\n",
              "      <td>1</td>\n",
              "      <td>0.993685</td>\n",
              "    </tr>\n",
              "    <tr>\n",
              "      <th>3</th>\n",
              "      <td>0.874</td>\n",
              "      <td>0.127</td>\n",
              "      <td>0.027</td>\n",
              "      <td>0.005</td>\n",
              "      <td>0.001</td>\n",
              "      <td>2</td>\n",
              "      <td>1.340166</td>\n",
              "    </tr>\n",
              "    <tr>\n",
              "      <th>4</th>\n",
              "      <td>0.000</td>\n",
              "      <td>0.101</td>\n",
              "      <td>0.875</td>\n",
              "      <td>0.045</td>\n",
              "      <td>0.008</td>\n",
              "      <td>4</td>\n",
              "      <td>3.600403</td>\n",
              "    </tr>\n",
              "  </tbody>\n",
              "</table>\n",
              "</div>"
            ],
            "text/plain": [
              "       0      1      2      3      4  y_test  y_test_pred\n",
              "0  0.359  0.028  0.803  0.000  0.000       2     3.347767\n",
              "1  0.000  0.000  0.893  0.066  0.004       3     3.543332\n",
              "2  0.907  0.001  0.000  0.000  0.000       1     0.993685\n",
              "3  0.874  0.127  0.027  0.005  0.001       2     1.340166\n",
              "4  0.000  0.101  0.875  0.045  0.008       4     3.600403"
            ]
          },
          "metadata": {
            "tags": []
          },
          "execution_count": 1193
        }
      ]
    },
    {
      "cell_type": "code",
      "metadata": {
        "id": "t9v43Fe3P7OG",
        "colab_type": "code",
        "outputId": "43050e35-740a-4362-cb5e-ddae4cae38ca",
        "colab": {
          "base_uri": "https://localhost:8080/",
          "height": 236
        }
      },
      "source": [
        "df_fulltest = df_test.reset_index()\n",
        "df_fulltest['calibration_predict'] = y_test_pred\n",
        "df_fulltest.head()"
      ],
      "execution_count": 0,
      "outputs": [
        {
          "output_type": "execute_result",
          "data": {
            "text/html": [
              "<div>\n",
              "<style scoped>\n",
              "    .dataframe tbody tr th:only-of-type {\n",
              "        vertical-align: middle;\n",
              "    }\n",
              "\n",
              "    .dataframe tbody tr th {\n",
              "        vertical-align: top;\n",
              "    }\n",
              "\n",
              "    .dataframe thead th {\n",
              "        text-align: right;\n",
              "    }\n",
              "</style>\n",
              "<table border=\"1\" class=\"dataframe\">\n",
              "  <thead>\n",
              "    <tr style=\"text-align: right;\">\n",
              "      <th></th>\n",
              "      <th>index</th>\n",
              "      <th>Unnamed: 0</th>\n",
              "      <th>img_name</th>\n",
              "      <th>actual_qual</th>\n",
              "      <th>Quality 1</th>\n",
              "      <th>Quality 2</th>\n",
              "      <th>Quality 3</th>\n",
              "      <th>Quality 4</th>\n",
              "      <th>Quality 5</th>\n",
              "      <th>predicted_qual</th>\n",
              "      <th>Weights</th>\n",
              "      <th>calibration_predict</th>\n",
              "    </tr>\n",
              "  </thead>\n",
              "  <tbody>\n",
              "    <tr>\n",
              "      <th>0</th>\n",
              "      <td>100</td>\n",
              "      <td>100</td>\n",
              "      <td>video34526[1].mp4__frame44.png</td>\n",
              "      <td>2</td>\n",
              "      <td>0.359</td>\n",
              "      <td>0.028</td>\n",
              "      <td>0.803</td>\n",
              "      <td>0.000</td>\n",
              "      <td>0.000</td>\n",
              "      <td>2.373109</td>\n",
              "      <td>0.460038</td>\n",
              "      <td>3.347767</td>\n",
              "    </tr>\n",
              "    <tr>\n",
              "      <th>1</th>\n",
              "      <td>126</td>\n",
              "      <td>126</td>\n",
              "      <td>video33547.mp4__frame88.png</td>\n",
              "      <td>3</td>\n",
              "      <td>0.000</td>\n",
              "      <td>0.000</td>\n",
              "      <td>0.893</td>\n",
              "      <td>0.066</td>\n",
              "      <td>0.004</td>\n",
              "      <td>3.076843</td>\n",
              "      <td>0.569781</td>\n",
              "      <td>3.543332</td>\n",
              "    </tr>\n",
              "    <tr>\n",
              "      <th>2</th>\n",
              "      <td>29</td>\n",
              "      <td>29</td>\n",
              "      <td>video34513.mp4__frame44.png</td>\n",
              "      <td>1</td>\n",
              "      <td>0.907</td>\n",
              "      <td>0.001</td>\n",
              "      <td>0.000</td>\n",
              "      <td>0.000</td>\n",
              "      <td>0.000</td>\n",
              "      <td>1.001101</td>\n",
              "      <td>1.787951</td>\n",
              "      <td>0.993685</td>\n",
              "    </tr>\n",
              "    <tr>\n",
              "      <th>3</th>\n",
              "      <td>54</td>\n",
              "      <td>54</td>\n",
              "      <td>video33642.mp4__frame44.png</td>\n",
              "      <td>2</td>\n",
              "      <td>0.874</td>\n",
              "      <td>0.127</td>\n",
              "      <td>0.027</td>\n",
              "      <td>0.005</td>\n",
              "      <td>0.001</td>\n",
              "      <td>1.193424</td>\n",
              "      <td>0.460038</td>\n",
              "      <td>1.340166</td>\n",
              "    </tr>\n",
              "    <tr>\n",
              "      <th>4</th>\n",
              "      <td>176</td>\n",
              "      <td>176</td>\n",
              "      <td>video33663.mp4__frame22.png</td>\n",
              "      <td>4</td>\n",
              "      <td>0.000</td>\n",
              "      <td>0.101</td>\n",
              "      <td>0.875</td>\n",
              "      <td>0.045</td>\n",
              "      <td>0.008</td>\n",
              "      <td>2.961127</td>\n",
              "      <td>1.184554</td>\n",
              "      <td>3.600403</td>\n",
              "    </tr>\n",
              "  </tbody>\n",
              "</table>\n",
              "</div>"
            ],
            "text/plain": [
              "   index  Unnamed: 0  ...   Weights  calibration_predict\n",
              "0    100         100  ...  0.460038             3.347767\n",
              "1    126         126  ...  0.569781             3.543332\n",
              "2     29          29  ...  1.787951             0.993685\n",
              "3     54          54  ...  0.460038             1.340166\n",
              "4    176         176  ...  1.184554             3.600403\n",
              "\n",
              "[5 rows x 12 columns]"
            ]
          },
          "metadata": {
            "tags": []
          },
          "execution_count": 1194
        }
      ]
    },
    {
      "cell_type": "code",
      "metadata": {
        "id": "G10-zxQAHz0A",
        "colab_type": "code",
        "colab": {}
      },
      "source": [
        "# df_eval.groupby(y_test).apply(lambda x: np.sqrt(mean_squared_error(x.y_test, x.y_test_pred)))\n",
        "meanerrorforclass = df_eval.groupby(y_dftest).apply(lambda x: mean_absolute_error(x.y_test, x.y_test_pred))\n",
        "\n"
      ],
      "execution_count": 0,
      "outputs": []
    },
    {
      "cell_type": "markdown",
      "metadata": {
        "id": "rOBk8ZDZjKS1",
        "colab_type": "text"
      },
      "source": [
        "## Merge on img_name"
      ]
    },
    {
      "cell_type": "code",
      "metadata": {
        "id": "Kx2cfhE0jOFl",
        "colab_type": "code",
        "outputId": "ef146c7b-3130-4834-91f6-8a8b15f7f560",
        "colab": {
          "base_uri": "https://localhost:8080/",
          "height": 406
        }
      },
      "source": [
        "df_quadrants = pd.read_csv(\"quadrant_confidence.csv\") # loads in qudrants with img names csv\n",
        "df_quadrants.head()\n"
      ],
      "execution_count": 0,
      "outputs": [
        {
          "output_type": "execute_result",
          "data": {
            "text/html": [
              "<div>\n",
              "<style scoped>\n",
              "    .dataframe tbody tr th:only-of-type {\n",
              "        vertical-align: middle;\n",
              "    }\n",
              "\n",
              "    .dataframe tbody tr th {\n",
              "        vertical-align: top;\n",
              "    }\n",
              "\n",
              "    .dataframe thead th {\n",
              "        text-align: right;\n",
              "    }\n",
              "</style>\n",
              "<table border=\"1\" class=\"dataframe\">\n",
              "  <thead>\n",
              "    <tr style=\"text-align: right;\">\n",
              "      <th></th>\n",
              "      <th>Unnamed: 0</th>\n",
              "      <th>Unnamed: 0.1</th>\n",
              "      <th>actual_class</th>\n",
              "      <th>predicted_class</th>\n",
              "      <th>img_name</th>\n",
              "      <th>Quadrant</th>\n",
              "    </tr>\n",
              "  </thead>\n",
              "  <tbody>\n",
              "    <tr>\n",
              "      <th>0</th>\n",
              "      <td>0</td>\n",
              "      <td>0</td>\n",
              "      <td>Quality 1</td>\n",
              "      <td>[{\"class\": \"Quality 1\", \"score\": 0.907}, {\"cla...</td>\n",
              "      <td>video33327.mp4__frame176.png</td>\n",
              "      <td>unknown</td>\n",
              "    </tr>\n",
              "    <tr>\n",
              "      <th>1</th>\n",
              "      <td>1</td>\n",
              "      <td>0</td>\n",
              "      <td>Quality 1</td>\n",
              "      <td>[{\"class\": \"Quality 1\", \"score\": 0.907}, {\"cla...</td>\n",
              "      <td>video33327.mp4__frame176.png</td>\n",
              "      <td>unknown</td>\n",
              "    </tr>\n",
              "    <tr>\n",
              "      <th>2</th>\n",
              "      <td>2</td>\n",
              "      <td>1</td>\n",
              "      <td>Quality 1</td>\n",
              "      <td>[{\"class\": \"Quality 1\", \"score\": 0.418}, {\"cla...</td>\n",
              "      <td>video33642.mp4__frame110.png</td>\n",
              "      <td>unknown</td>\n",
              "    </tr>\n",
              "    <tr>\n",
              "      <th>3</th>\n",
              "      <td>3</td>\n",
              "      <td>1</td>\n",
              "      <td>Quality 1</td>\n",
              "      <td>[{\"class\": \"Quality 1\", \"score\": 0.418}, {\"cla...</td>\n",
              "      <td>video33642.mp4__frame110.png</td>\n",
              "      <td>unknown</td>\n",
              "    </tr>\n",
              "    <tr>\n",
              "      <th>4</th>\n",
              "      <td>4</td>\n",
              "      <td>2</td>\n",
              "      <td>Quality 1</td>\n",
              "      <td>[{\"class\": \"Quality 1\", \"score\": 0.891}, {\"cla...</td>\n",
              "      <td>video33642.mp4__frame66.png</td>\n",
              "      <td>unknown</td>\n",
              "    </tr>\n",
              "  </tbody>\n",
              "</table>\n",
              "</div>"
            ],
            "text/plain": [
              "   Unnamed: 0  Unnamed: 0.1  ...                      img_name Quadrant\n",
              "0           0             0  ...  video33327.mp4__frame176.png  unknown\n",
              "1           1             0  ...  video33327.mp4__frame176.png  unknown\n",
              "2           2             1  ...  video33642.mp4__frame110.png  unknown\n",
              "3           3             1  ...  video33642.mp4__frame110.png  unknown\n",
              "4           4             2  ...   video33642.mp4__frame66.png  unknown\n",
              "\n",
              "[5 rows x 6 columns]"
            ]
          },
          "metadata": {
            "tags": []
          },
          "execution_count": 1196
        }
      ]
    },
    {
      "cell_type": "code",
      "metadata": {
        "id": "ngqrOcwIjr6R",
        "colab_type": "code",
        "outputId": "f735ff19-3c48-4c1a-86b3-4c886956e6b1",
        "colab": {
          "base_uri": "https://localhost:8080/",
          "height": 199
        }
      },
      "source": [
        "dfquadcolumns = [\"img_name\", \"Quadrant\"]\n",
        "df_quadrants = df_quadrants.reindex(columns = dfquadcolumns)\n",
        "df_quadrants.head()"
      ],
      "execution_count": 0,
      "outputs": [
        {
          "output_type": "execute_result",
          "data": {
            "text/html": [
              "<div>\n",
              "<style scoped>\n",
              "    .dataframe tbody tr th:only-of-type {\n",
              "        vertical-align: middle;\n",
              "    }\n",
              "\n",
              "    .dataframe tbody tr th {\n",
              "        vertical-align: top;\n",
              "    }\n",
              "\n",
              "    .dataframe thead th {\n",
              "        text-align: right;\n",
              "    }\n",
              "</style>\n",
              "<table border=\"1\" class=\"dataframe\">\n",
              "  <thead>\n",
              "    <tr style=\"text-align: right;\">\n",
              "      <th></th>\n",
              "      <th>img_name</th>\n",
              "      <th>Quadrant</th>\n",
              "    </tr>\n",
              "  </thead>\n",
              "  <tbody>\n",
              "    <tr>\n",
              "      <th>0</th>\n",
              "      <td>video33327.mp4__frame176.png</td>\n",
              "      <td>unknown</td>\n",
              "    </tr>\n",
              "    <tr>\n",
              "      <th>1</th>\n",
              "      <td>video33327.mp4__frame176.png</td>\n",
              "      <td>unknown</td>\n",
              "    </tr>\n",
              "    <tr>\n",
              "      <th>2</th>\n",
              "      <td>video33642.mp4__frame110.png</td>\n",
              "      <td>unknown</td>\n",
              "    </tr>\n",
              "    <tr>\n",
              "      <th>3</th>\n",
              "      <td>video33642.mp4__frame110.png</td>\n",
              "      <td>unknown</td>\n",
              "    </tr>\n",
              "    <tr>\n",
              "      <th>4</th>\n",
              "      <td>video33642.mp4__frame66.png</td>\n",
              "      <td>unknown</td>\n",
              "    </tr>\n",
              "  </tbody>\n",
              "</table>\n",
              "</div>"
            ],
            "text/plain": [
              "                       img_name Quadrant\n",
              "0  video33327.mp4__frame176.png  unknown\n",
              "1  video33327.mp4__frame176.png  unknown\n",
              "2  video33642.mp4__frame110.png  unknown\n",
              "3  video33642.mp4__frame110.png  unknown\n",
              "4   video33642.mp4__frame66.png  unknown"
            ]
          },
          "metadata": {
            "tags": []
          },
          "execution_count": 1197
        }
      ]
    },
    {
      "cell_type": "code",
      "metadata": {
        "id": "GpnskeaYkYT1",
        "colab_type": "code",
        "outputId": "98ff2afb-203f-4305-f14b-985bccb5edf0",
        "colab": {
          "base_uri": "https://localhost:8080/",
          "height": 236
        }
      },
      "source": [
        "df_final = df_fulltest.merge(df_quadrants, on = \"img_name\") # creates final data frame \n",
        "df_final.head()\n"
      ],
      "execution_count": 0,
      "outputs": [
        {
          "output_type": "execute_result",
          "data": {
            "text/html": [
              "<div>\n",
              "<style scoped>\n",
              "    .dataframe tbody tr th:only-of-type {\n",
              "        vertical-align: middle;\n",
              "    }\n",
              "\n",
              "    .dataframe tbody tr th {\n",
              "        vertical-align: top;\n",
              "    }\n",
              "\n",
              "    .dataframe thead th {\n",
              "        text-align: right;\n",
              "    }\n",
              "</style>\n",
              "<table border=\"1\" class=\"dataframe\">\n",
              "  <thead>\n",
              "    <tr style=\"text-align: right;\">\n",
              "      <th></th>\n",
              "      <th>index</th>\n",
              "      <th>Unnamed: 0</th>\n",
              "      <th>img_name</th>\n",
              "      <th>actual_qual</th>\n",
              "      <th>Quality 1</th>\n",
              "      <th>Quality 2</th>\n",
              "      <th>Quality 3</th>\n",
              "      <th>Quality 4</th>\n",
              "      <th>Quality 5</th>\n",
              "      <th>predicted_qual</th>\n",
              "      <th>Weights</th>\n",
              "      <th>calibration_predict</th>\n",
              "      <th>Quadrant</th>\n",
              "    </tr>\n",
              "  </thead>\n",
              "  <tbody>\n",
              "    <tr>\n",
              "      <th>0</th>\n",
              "      <td>100</td>\n",
              "      <td>100</td>\n",
              "      <td>video34526[1].mp4__frame44.png</td>\n",
              "      <td>2</td>\n",
              "      <td>0.359</td>\n",
              "      <td>0.028</td>\n",
              "      <td>0.803</td>\n",
              "      <td>0.000</td>\n",
              "      <td>0.000</td>\n",
              "      <td>2.373109</td>\n",
              "      <td>0.460038</td>\n",
              "      <td>3.347767</td>\n",
              "      <td>suprapubic</td>\n",
              "    </tr>\n",
              "    <tr>\n",
              "      <th>1</th>\n",
              "      <td>126</td>\n",
              "      <td>126</td>\n",
              "      <td>video33547.mp4__frame88.png</td>\n",
              "      <td>3</td>\n",
              "      <td>0.000</td>\n",
              "      <td>0.000</td>\n",
              "      <td>0.893</td>\n",
              "      <td>0.066</td>\n",
              "      <td>0.004</td>\n",
              "      <td>3.076843</td>\n",
              "      <td>0.569781</td>\n",
              "      <td>3.543332</td>\n",
              "      <td>suprapubic</td>\n",
              "    </tr>\n",
              "    <tr>\n",
              "      <th>2</th>\n",
              "      <td>29</td>\n",
              "      <td>29</td>\n",
              "      <td>video34513.mp4__frame44.png</td>\n",
              "      <td>1</td>\n",
              "      <td>0.907</td>\n",
              "      <td>0.001</td>\n",
              "      <td>0.000</td>\n",
              "      <td>0.000</td>\n",
              "      <td>0.000</td>\n",
              "      <td>1.001101</td>\n",
              "      <td>1.787951</td>\n",
              "      <td>0.993685</td>\n",
              "      <td>unknown</td>\n",
              "    </tr>\n",
              "    <tr>\n",
              "      <th>3</th>\n",
              "      <td>54</td>\n",
              "      <td>54</td>\n",
              "      <td>video33642.mp4__frame44.png</td>\n",
              "      <td>2</td>\n",
              "      <td>0.874</td>\n",
              "      <td>0.127</td>\n",
              "      <td>0.027</td>\n",
              "      <td>0.005</td>\n",
              "      <td>0.001</td>\n",
              "      <td>1.193424</td>\n",
              "      <td>0.460038</td>\n",
              "      <td>1.340166</td>\n",
              "      <td>left_upper_quadrant</td>\n",
              "    </tr>\n",
              "    <tr>\n",
              "      <th>4</th>\n",
              "      <td>54</td>\n",
              "      <td>54</td>\n",
              "      <td>video33642.mp4__frame44.png</td>\n",
              "      <td>2</td>\n",
              "      <td>0.874</td>\n",
              "      <td>0.127</td>\n",
              "      <td>0.027</td>\n",
              "      <td>0.005</td>\n",
              "      <td>0.001</td>\n",
              "      <td>1.193424</td>\n",
              "      <td>0.460038</td>\n",
              "      <td>1.340166</td>\n",
              "      <td>left_upper_quadrant</td>\n",
              "    </tr>\n",
              "  </tbody>\n",
              "</table>\n",
              "</div>"
            ],
            "text/plain": [
              "   index  Unnamed: 0  ... calibration_predict             Quadrant\n",
              "0    100         100  ...            3.347767           suprapubic\n",
              "1    126         126  ...            3.543332           suprapubic\n",
              "2     29          29  ...            0.993685              unknown\n",
              "3     54          54  ...            1.340166  left_upper_quadrant\n",
              "4     54          54  ...            1.340166  left_upper_quadrant\n",
              "\n",
              "[5 rows x 13 columns]"
            ]
          },
          "metadata": {
            "tags": []
          },
          "execution_count": 1198
        }
      ]
    },
    {
      "cell_type": "code",
      "metadata": {
        "id": "U1xDGqWDlWuP",
        "colab_type": "code",
        "colab": {}
      },
      "source": [
        "dffinalcolumns = [\"img_name\", \"actual_qual\", \"Quality 1\", \"Quality 2\", \"Quality 3\", \"Quality 4\", \"Quality 5\", \"Weights\", \"predicted_qual\", \"calibration_predict\", \"Quadrant\" ]\n",
        "df_final = df_final.reindex(columns = dffinalcolumns)\n",
        "df_final.head()\n",
        "df_final.to_csv(\"Calibrated_Model_Predictions.csv\")"
      ],
      "execution_count": 0,
      "outputs": []
    },
    {
      "cell_type": "markdown",
      "metadata": {
        "id": "Gr9M8TAFNAau",
        "colab_type": "text"
      },
      "source": [
        "## Get outputs"
      ]
    },
    {
      "cell_type": "code",
      "metadata": {
        "id": "9q2lhKSmH7hw",
        "colab_type": "code",
        "outputId": "1d5fe0ae-8679-4623-aa62-8c75411ca309",
        "colab": {
          "base_uri": "https://localhost:8080/",
          "height": 440
        }
      },
      "source": [
        "# confusion matrix\n",
        "\n",
        "def plot_confusion_matrix(y_true, y_pred, classes,\n",
        "                          normalize=False,\n",
        "                          title=None,\n",
        "                          cmap=plt.cm.Blues):\n",
        "    \"\"\"\n",
        "    This function prints and plots the confusion matrix.\n",
        "    Normalization can be applied by setting `normalize=True`.\n",
        "    \"\"\"\n",
        "    if not title:\n",
        "        if normalize:\n",
        "            title = 'Normalized confusion matrix'\n",
        "        else:\n",
        "            title = 'Confusion matrix, without normalization'\n",
        "\n",
        "    # Compute confusion matrix\n",
        "    cm = confusion_matrix(y_true, y_pred)\n",
        "    # Only use the labels that appear in the data\n",
        "    if normalize:\n",
        "        cm = cm.astype('float') / cm.sum(axis=1)[:, np.newaxis]\n",
        "        print(\"Normalized confusion matrix\")\n",
        "    else:\n",
        "        print('Confusion matrix, without normalization')\n",
        "\n",
        "    print(cm)\n",
        "\n",
        "    fig, ax = plt.subplots()\n",
        "    im = ax.imshow(cm, interpolation='nearest', cmap=cmap)\n",
        "    ax.figure.colorbar(im, ax=ax)\n",
        "    # We want to show all ticks...\n",
        "    ax.set(xticks=np.arange(cm.shape[1]),\n",
        "           yticks=np.arange(cm.shape[0]),\n",
        "           # ... and label them with the respective list entries\n",
        "           xticklabels=classes, yticklabels=classes,\n",
        "           title=title,\n",
        "           ylabel='True label',\n",
        "           xlabel='Predicted label')\n",
        "\n",
        "    # Rotate the tick labels and set their alignment.\n",
        "    plt.setp(ax.get_xticklabels(), rotation=45, ha=\"right\",\n",
        "             rotation_mode=\"anchor\")\n",
        "\n",
        "    # Loop over data dimensions and create text annotations.\n",
        "    fmt = '.2f' if normalize else 'd'\n",
        "    thresh = cm.max() / 2.\n",
        "    for i in range(cm.shape[0]):\n",
        "        for j in range(cm.shape[1]):\n",
        "            ax.text(j, i, format(cm[i, j], fmt),\n",
        "                    ha=\"center\", va=\"center\",\n",
        "                    color=\"white\" if cm[i, j] > thresh else \"black\")\n",
        "    fig.tight_layout()\n",
        "    return ax\n",
        "  \n",
        "\n",
        "CalQual = df_final[\"calibration_predict\"].values.tolist()\n",
        "i = 0\n",
        "for x in CalQual:\n",
        "  CalQual[i] = round(x)\n",
        "  i = i + 1\n",
        "  \n",
        "print(CalQual) \n",
        "  \n",
        "TruQual = df_final['actual_qual'].values.tolist()\n",
        "\n",
        "a = plot_confusion_matrix(TruQual, CalQual, classes = ['Quality 1', 'Quality 2', 'Quality 3', 'Quality 4', 'Quality 5']) \n",
        "  \n",
        "plt.savefig(\"confusion_matrix.png\")  \n",
        "  \n"
      ],
      "execution_count": 0,
      "outputs": [
        {
          "output_type": "stream",
          "text": [
            "[3, 4, 1, 1, 1, 4, 4, 5, 5, 1, 1, 5, 5, 3, 5, 4, 4, 5, 3, 3, 5, 5, 2, 4, 3, 3, 4, 4, 2, 3, 2, 5, 2, 3, 2, 3, 2, 4, 4, 4, 2, 4, 5, 5, 4, 4, 4, 1, 4, 4, 3, 3, 3, 1, 1, 1, 4, 4, 3, 3, 3, 5, 5, 5, 5, 5, 2, 1, 3, 4, 3, 2, 2, 5, 3, 4, 3, 2, 2, 5, 5, 5, 3, 2, 4, 4, 3, 3, 3, 4, 3, 1, 5, 5, 3, 5, 5, 3, 4, 4, 5, 5, 3, 3, 3, 4, 3, 2, 2, 3, 5, 3, 3, 2, 5, 2, 5, 2, 2, 2, 5, 2, 2, 1, 1, 4, 4, 2, 2, 5, 5, 3, 3, 3, 3, 4, 4, 2, 5, 1, 4, 4, 3, 3, 3, 5, 5, 2, 1, 1, 4, 5, 3, 3, 5, 3, 3, 3, 3, 5, 5, 5, 1, 1, 4, 5, 1, 2, 2, 4, 4, 4, 5, 5, 2, 3, 5, 5, 1, 1, 4, 2, 3, 3, 4, 2, 5, 1, 1, 3, 3, 2, 2, 2, 4, 5, 4, 4, 2, 4, 2, 3, 3, 1, 4, 4, 4, 5, 5, 1, 4, 1, 4, 5, 2, 5, 5, 2, 2, 2, 4, 4, 1, 3, 3, 3, 2, 5, 4, 1, 3, 1, 5, 5]\n",
            "Confusion matrix, without normalization\n",
            "[[16  6  3  4  0]\n",
            " [ 9 23 21  9  5]\n",
            " [ 2 11 15 19 16]\n",
            " [ 0  1 15 12 19]\n",
            " [ 2  0  3  8 15]]\n"
          ],
          "name": "stdout"
        },
        {
          "output_type": "display_data",
          "data": {
            "image/png": "[encoded data removed]",
            "text/plain": [
              "<Figure size 432x288 with 2 Axes>"
            ]
          },
          "metadata": {
            "tags": []
          }
        }
      ]
    },
    {
      "cell_type": "code",
      "metadata": {
        "id": "NGOyn2MiNQWq",
        "colab_type": "code",
        "colab": {}
      },
      "source": [
        "# nice quality-level performance table\n"
      ],
      "execution_count": 0,
      "outputs": []
    },
    {
      "cell_type": "code",
      "metadata": {
        "id": "SM_FCetRNS1m",
        "colab_type": "code",
        "colab": {}
      },
      "source": [
        "# quality-level performance by region"
      ],
      "execution_count": 0,
      "outputs": []
    },
    {
      "cell_type": "code",
      "metadata": {
        "id": "jHC6N877OFFz",
        "colab_type": "code",
        "outputId": "f16f7f05-635f-4045-8f9d-c2e34f965d5f",
        "colab": {
          "base_uri": "https://localhost:8080/",
          "height": 1039
        }
      },
      "source": [
        "# Distribution of predication sfor each equality level \n",
        "\n",
        "fig, axarr = plt.subplots(5, sharex=True, sharey=True, figsize=(14,14))\n",
        "for i in range(1,6):\n",
        " \n",
        "  dfi = df_final.loc[df_final.actual_qual==i, ]\n",
        "  ax = axarr[i-1]\n",
        "  ax.hist(dfi['calibration_predict']);\n",
        "  plottitle = \"Quality \" + str(i) + \" Predictions\"\n",
        "  ax.set_title(plottitle)\n",
        "  ax.set_ylabel('Num of Imgs')\n",
        "  plt.setp(ax.get_xticklabels(), fontsize = 14)\n",
        "  \n",
        "  \n",
        "\n",
        "# plt.xlim([0,1])\n",
        "# plt.ylim([0,10])\n",
        "plt.tight_layout(pad=1)\n",
        "fig.show()\n",
        "plt.savefig(\"Distribution_of_predictions_for_each_quality_level.png\")\n"
      ],
      "execution_count": 0,
      "outputs": [
        {
          "output_type": "display_data",
          "data": {
            "image/png": "[encoded data removed]",
            "text/plain": [
              "<Figure size 1008x1008 with 5 Axes>"
            ]
          },
          "metadata": {
            "tags": []
          }
        }
      ]
    }
  ]
}