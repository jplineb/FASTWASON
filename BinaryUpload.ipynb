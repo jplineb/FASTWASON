{
  "nbformat": 4,
  "nbformat_minor": 0,
  "metadata": {
    "colab": {
      "name": "BinaryUpload.ipynb",
      "version": "0.3.2",
      "provenance": [],
      "collapsed_sections": [],
      "include_colab_link": true
    },
    "kernelspec": {
      "name": "python3",
      "display_name": "Python 3"
    }
  },
  "cells": [
    {
      "cell_type": "markdown",
      "metadata": {
        "id": "view-in-github",
        "colab_type": "text"
      },
      "source": [
        "<a href=\"https://colab.research.google.com/github/jplineb/FASTWASON/blob/master/BinaryUpload.ipynb\" target=\"_parent\"><img src=\"https://colab.research.google.com/assets/colab-badge.svg\" alt=\"Open In Colab\"/></a>"
      ]
    },
    {
      "metadata": {
        "id": "jmW1KKpxuStW",
        "colab_type": "code",
        "colab": {}
      },
      "cell_type": "code",
      "source": [
        "!pip install --upgrade \"watson-developer-cloud>=2.8.0\" # Installs Watson Developer package\n"
      ],
      "execution_count": 0,
      "outputs": []
    },
    {
      "metadata": {
        "id": "l5aJm0dLzoWY",
        "colab_type": "code",
        "colab": {}
      },
      "cell_type": "code",
      "source": [
        "# Cell Dedicated to imports #\n",
        "import os\n",
        "import json\n",
        "import watson_developer_cloud import VisualRecognitionV3"
      ],
      "execution_count": 0,
      "outputs": []
    },
    {
      "metadata": {
        "id": "Y4s1ePj3wsV9",
        "colab_type": "text"
      },
      "cell_type": "markdown",
      "source": [
        "For the purposes of continuity the folders that we will be pulling from are called 'crap' and 'notcrap' so the defined variables will be as following:"
      ]
    },
    {
      "metadata": {
        "id": "vuxK35DEw-jc",
        "colab_type": "code",
        "outputId": "f0ccca36-80b7-46f8-a49b-8b740787924b",
        "colab": {
          "base_uri": "https://localhost:8080/",
          "height": 34
        }
      },
      "cell_type": "code",
      "source": [
        "# These define the locations of our videos #\n",
        "wrkingdirct = os.getcwd()\n",
        "Craplocation = wrkingdirct + '/crap/'\n",
        "NotCraplocation = wrkingdirct + '/notcrap/' "
      ],
      "execution_count": 0,
      "outputs": [
        {
          "output_type": "stream",
          "text": [
            "/content\n"
          ],
          "name": "stdout"
        }
      ]
    }
  ]
}